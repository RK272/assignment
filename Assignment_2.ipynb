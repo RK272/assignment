{
 "cells": [
  {
   "cell_type": "code",
   "execution_count": null,
   "id": "c3fc9e71-0ef5-4aaa-b27d-6e91221eb57d",
   "metadata": {},
   "outputs": [],
   "source": [
    "1.What are the two values of the Boolean data type? How do you write them?"
   ]
  },
  {
   "cell_type": "code",
   "execution_count": null,
   "id": "35e7f66a-e885-40ac-8b4f-9807e9ed9796",
   "metadata": {},
   "outputs": [],
   "source": [
    "The two values of the Boolean data type are:\n",
    "\n",
    "True\n",
    "False\n",
    "we can write like this\n",
    "is_valid = True\n",
    "is_complete = False"
   ]
  },
  {
   "cell_type": "code",
   "execution_count": null,
   "id": "ac5b9498-e72f-4979-b721-0a4fd4c2135b",
   "metadata": {},
   "outputs": [],
   "source": [
    "2. What are the three different types of Boolean operators?"
   ]
  },
  {
   "cell_type": "code",
   "execution_count": null,
   "id": "6b96e049-d22e-406d-9f18-36db6f02ec77",
   "metadata": {},
   "outputs": [],
   "source": [
    "The three different types of Boolean operators are:\n",
    "\n",
    "AND\n",
    "OR\n",
    "NOT\n",
    "Here is how they work:\n",
    "\n",
    "AND Operator\n",
    "Symbol: and\n",
    "Description: Returns True if both operands are True.\n",
    "Example:\n",
    "\n",
    "result = True and False  # result is False\n",
    "result = True and True   # result is True\n",
    "OR Operator\n",
    "Symbol: or\n",
    "Description: Returns True if at least one of the operands is True.\n",
    "Example:\n",
    "\n",
    "result = True or False  # result is True\n",
    "result = False or False # result is False\n",
    "NOT Operator\n",
    "Symbol: not\n",
    "Description: Returns True if the operand is False and vice versa.\n",
    "Example:\n",
    "\n",
    "result = not True  # result is False\n",
    "result = not False # result is True"
   ]
  },
  {
   "cell_type": "code",
   "execution_count": null,
   "id": "a0ef0b35-d547-425e-8e5d-b0e29ff5caae",
   "metadata": {},
   "outputs": [],
   "source": [
    "3. Make a list of each Boolean operators truth tables (i.e. every possible combination of Boolean\n",
    "values for the operator and what it evaluate )."
   ]
  },
  {
   "cell_type": "code",
   "execution_count": null,
   "id": "5bbd2045-7852-44e9-a0ba-c85b9a2183ee",
   "metadata": {},
   "outputs": [],
   "source": [
    "AND Operator (and)\n",
    "\n",
    "A\t     B\t  A and B\n",
    "True\tTrue\tTrue\n",
    "True\tFalse\tFalse\n",
    "False\tTrue\tFalse\n",
    "False\tFalse\tFalse\n",
    "\n",
    "OR Operator (or)\n",
    "\n",
    "A\t     B\t   A or B\n",
    "True\tTrue\tTrue\n",
    "True\tFalse\tTrue\n",
    "False\tTrue\tTrue\n",
    "False\tFalse\tFalse\n",
    "NOT Operator (not)\n",
    "A\t   not A\n",
    "True\tFalse\n",
    "False\tTrue"
   ]
  },
  {
   "cell_type": "code",
   "execution_count": null,
   "id": "a9917dea-fc3f-4edc-9a6b-97e14fbbbdfa",
   "metadata": {},
   "outputs": [],
   "source": [
    "4. What are the values of the following expressions?\n",
    "(5 > 4) and (3 == 5)\n",
    "not (5 > 4)\n",
    "(5 > 4) or (3 == 5)\n",
    "not ((5 > 4) or (3 == 5))\n",
    "(True and True) and (True == False)\n",
    "(not False) or (not True)"
   ]
  },
  {
   "cell_type": "code",
   "execution_count": null,
   "id": "35662930-415e-41e4-94d8-64dbe9bd9151",
   "metadata": {},
   "outputs": [],
   "source": [
    "(5 > 4) and (3 == 5)=False\n",
    "not (5 > 4)=False\n",
    "(5 > 4) or (3 == 5)=True\n",
    "not ((5 > 4) or (3 == 5))=True\n",
    "(True and True) and (True == False)=False\n",
    "(not False) or (not True)=True"
   ]
  },
  {
   "cell_type": "code",
   "execution_count": null,
   "id": "d5110644-1855-4504-a0ef-0fb4869db51e",
   "metadata": {},
   "outputs": [],
   "source": [
    "5. What are the six comparison operators?"
   ]
  },
  {
   "cell_type": "code",
   "execution_count": null,
   "id": "b35cf28d-3c36-4e38-ab39-0ac832a498c2",
   "metadata": {},
   "outputs": [],
   "source": [
    "Equal to: ==\n",
    "\n",
    "Checks if two operands are equal.\n",
    "Example: 5 == 5 evaluates to True, 5 == 3 evaluates to False.\n",
    "Not equal to: !=\n",
    "\n",
    "Checks if two operands are not equal.\n",
    "Example: 5 != 3 evaluates to True, 5 != 5 evaluates to False.\n",
    "Greater than: >\n",
    "\n",
    "Checks if the left operand is greater than the right operand.\n",
    "Example: 5 > 3 evaluates to True, 3 > 5 evaluates to False.\n",
    "Less than: <\n",
    "\n",
    "Checks if the left operand is less than the right operand.\n",
    "Example: 3 < 5 evaluates to True, 5 < 3 evaluates to False.\n",
    "Greater than or equal to: >=\n",
    "\n",
    "Checks if the left operand is greater than or equal to the right operand.\n",
    "Example: 5 >= 5 evaluates to True, 3 >= 5 evaluates to False.\n",
    "Less than or equal to: <=\n",
    "\n",
    "Checks if the left operand is less than or equal to the right operand.\n",
    "Example: 3 <= 5 evaluates to True, 5 <= 3 evaluates to False."
   ]
  },
  {
   "cell_type": "code",
   "execution_count": null,
   "id": "e5fd408b-f550-4d51-984b-12c5a8738187",
   "metadata": {},
   "outputs": [],
   "source": [
    "6. How do you tell the difference between the equal to and assignment operators?Describe a\n",
    "condition and when you would use one."
   ]
  },
  {
   "cell_type": "code",
   "execution_count": null,
   "id": "bd3b531c-0673-4ce3-b123-2f58fed431ac",
   "metadata": {},
   "outputs": [],
   "source": [
    "In Python, the equal to (==) and assignment (=) operators serve different purposes:\n",
    "\n",
    "Equal To Operator (==):\n",
    "Purpose: Checks if two values are equal.\n",
    "Example: x == y checks if the value of x is equal to the value of y.\n",
    "Usage: This operator is used in conditional statements or expressions to compare values. For example:\n",
    "\n",
    "\n",
    "\n",
    "if x == 10:\n",
    "    print(\"x is equal to 10\")\n",
    "Here, == is used to check if the variable x has the value 10.\n",
    "Assignment Operator (=):\n",
    "Purpose: Assigns a value to a variable.\n",
    "Example: x = 10 assigns the value 10 to the variable x.\n",
    "Usage: This operator is used to store values in variables or update variable values. For example:\n",
    "\n",
    "\n",
    "x = 10\n",
    "y = x + 5\n",
    "Here, = is used to assign the value 10 to x and then use x + 5 to assign the resulting value 15 to y.\n",
    "Example Condition:\n",
    "Consider a scenario where you want to check if a user input matches a predefined password:\n",
    "\n",
    "\n",
    "password = \"abc123\"\n",
    "user_input = input(\"Enter your password: \")\n",
    "\n",
    "if user_input == password:\n",
    "    print(\"Access granted!\")\n",
    "else:\n",
    "    print(\"Access denied.\")\n",
    "In this example:\n",
    "\n",
    "== is used to compare the user input (user_input) with the predefined password (password).\n",
    "= is used to assign the value returned by input() function to the variable user_input.\n",
    "When to Use Each:\n",
    "Equal To (==): Use this when you need to compare values, such as checking if two strings are the same, or if a variable has a specific value.\n",
    "Assignment (=): Use this when you need to store or update values in variables, such as initializing variables or updating their values based on calculations or user input"
   ]
  },
  {
   "cell_type": "code",
   "execution_count": null,
   "id": "49e31578-2b01-4bdd-a00b-e3e2332a8d66",
   "metadata": {},
   "outputs": [],
   "source": [
    "7. Identify the three blocks in this code:\n",
    "spam = 0\n",
    "if spam == 10:\n",
    "print(\"eggs\")\n",
    "if spam > 5:\n",
    "print(\"bacon\")\n",
    "else:\n",
    "print(\"ham\")\n",
    "print('spam\")\n",
    "print(\"spam\")"
   ]
  },
  {
   "cell_type": "code",
   "execution_count": null,
   "id": "d9466941-bf00-4780-b1bc-d5314a9bf7c2",
   "metadata": {},
   "outputs": [],
   "source": [
    "spam = 0\n",
    "if spam == 10:\n",
    "    print('eggs') #1 st block\n",
    "if spam > 5:\n",
    "    print('bacon')# second block\n",
    "else:\n",
    "    print('ham')#3rd block\n",
    "print('spam')\n",
    "print('spam')"
   ]
  },
  {
   "cell_type": "code",
   "execution_count": null,
   "id": "face594c-ede1-4a4e-9dd9-1e425189d955",
   "metadata": {},
   "outputs": [],
   "source": [
    "8. Write code that prints Hello if 1 is stored in spam, prints Howdy if 2 is stored in spam, and prints\n",
    "Greetings! if anything else is stored in spam."
   ]
  },
  {
   "cell_type": "code",
   "execution_count": 1,
   "id": "7b85dbcd-5fe2-4a05-a8da-3731e762846e",
   "metadata": {},
   "outputs": [
    {
     "name": "stdout",
     "output_type": "stream",
     "text": [
      "Hello\n"
     ]
    }
   ],
   "source": [
    "spam = 1  # Change the value of spam to test different cases\n",
    "\n",
    "if spam == 1:\n",
    "    print(\"Hello\")\n",
    "elif spam == 2:\n",
    "    print(\"Howdy\")\n",
    "else:\n",
    "    print(\"Greetings!\")"
   ]
  },
  {
   "cell_type": "code",
   "execution_count": null,
   "id": "699e0e31-47c3-4ebd-84fa-305d70bb190f",
   "metadata": {},
   "outputs": [],
   "source": [
    "9.If your programme is stuck in an endless loop, what keys you’ll press?"
   ]
  },
  {
   "cell_type": "code",
   "execution_count": null,
   "id": "0e68b76b-a7e0-4304-8064-7e7880c074f1",
   "metadata": {},
   "outputs": [],
   "source": [
    "Ctrl + Break in windows\n",
    "in jupyter interrupt or restart\n",
    "\n",
    "Ctrl + C (hold down the Control key and then press C):\n",
    "\n",
    "This key combination sends a KeyboardInterrupt signal to the Python interpreter, which interrupts the execution of the program.\n",
    "It's the most common way to break out of an infinite loop or stop a program that's stuck.\n",
    "Ctrl + Break (on Windows):\n",
    "\n",
    "This key combination can also be used to interrupt a running program in some environments.\n",
    "*Ctrl + * (on Unix-like systems):\n",
    "\n",
    "This key combination sends a Quit signal, which can also be used to interrupt the program."
   ]
  },
  {
   "cell_type": "code",
   "execution_count": null,
   "id": "9da049d9-9722-4c21-bb8f-d6b83dbf9dab",
   "metadata": {},
   "outputs": [],
   "source": [
    "10. How can you tell the difference between break and continue?"
   ]
  },
  {
   "cell_type": "code",
   "execution_count": null,
   "id": "c5db6e79-5ac8-42f9-ba01-afcf02aa5a50",
   "metadata": {},
   "outputs": [],
   "source": [
    "In Python, break and continue are keywords used within loops (such as for or while loops) to alter the flow of control.\n",
    "Here's how you can differentiate between break and continue:\n",
    "\n",
    "break Statement:\n",
    "Purpose: The break statement is used to exit the current loop prematurely, regardless of whether the loop condition is still true.\n",
    "Effect: When break is encountered, the loop immediately terminates, and control passes to the statement immediately following the loop.\n",
    "Example:\n",
    "\n",
    "for i in range(5):\n",
    "    if i == 3:\n",
    "        break\n",
    "    print(i)\n",
    "Output: 0, 1, 2\n",
    "Here, the loop terminates when i equals 3, so 3 is not printed, and the loop stops early.\n",
    "continue Statement:\n",
    "Purpose: The continue statement is used to skip the rest of the code inside the loop for the current iteration and proceed to the next iteration.\n",
    "Effect: When continue is encountered, the current iteration's remaining code is skipped, and the loop continues with the next iteration.\n",
    "Example:\n",
    "\n",
    "for i in range(5):\n",
    "    if i == 2:\n",
    "        continue\n",
    "    print(i)\n",
    "Output: 0, 1, 3, 4\n",
    "Here, when i equals 2, the continue statement is executed, so 2 is not printed, and the loop moves to the next iteration.\n",
    "Key Differences:\n",
    "Functionality: break terminates the entire loop early when a certain condition is met, while continue skips the current iteration and\n",
    "    moves to the next one.\n",
    "Use Cases:\n",
    "break: Used when you want to exit a loop completely based on a condition, regardless of how many iterations remain.\n",
    "continue: Used when you want to skip specific iterations or certain conditions but continue with the loop."
   ]
  },
  {
   "cell_type": "code",
   "execution_count": null,
   "id": "3ae92c3f-f13a-4342-96bc-dddcb4d391cc",
   "metadata": {},
   "outputs": [],
   "source": [
    "11. In a for loop, what is the difference between range(10), range(0, 10), and range(0, 10, 1)?"
   ]
  },
  {
   "cell_type": "code",
   "execution_count": null,
   "id": "52c6eb01-c421-42ec-9da1-7280650b7b08",
   "metadata": {},
   "outputs": [],
   "source": [
    "range(10):\n",
    "\n",
    "This form of range() generates numbers starting from 0 up to (but not including) 10.\n",
    "It implicitly starts from 0 and steps by 1 by default.\n",
    "Example:\n",
    "\n",
    "for i in range(10):\n",
    "    print(i)\n",
    "Output: 0, 1, 2, 3, 4, 5, 6, 7, 8, 9\n",
    "range(0, 10):\n",
    "\n",
    "This specifies the start (0) and stop (10) values explicitly.\n",
    "It starts from 0 and goes up to (but not including) 10, stepping by 1 by default.\n",
    "Example:\n",
    "\n",
    "for i in range(0, 10):\n",
    "    print(i)\n",
    "Output: 0, 1, 2, 3, 4, 5, 6, 7, 8, 9\n",
    "range(0, 10, 1):\n",
    "\n",
    "This form specifies the start (0), stop (10), and step (1) values explicitly.\n",
    "It starts from 0, stops before 10, and increments by 1.\n",
    "Though 1 is the default step size, explicitly stating it makes the intention clear.\n",
    "Example:\n",
    "\n",
    "for i in range(0, 10, 1):\n",
    "    print(i)\n",
    "Output: 0, 1, 2, 3, 4, 5, 6, 7, 8, 9"
   ]
  },
  {
   "cell_type": "code",
   "execution_count": null,
   "id": "3f83d8fe-a96a-41ef-8866-902197d94d2c",
   "metadata": {},
   "outputs": [],
   "source": [
    "12. Write a short program that prints the numbers 1 to 10 using a for loop. Then write an equivalent\n",
    "program that prints the numbers 1 to 10 using a while loop."
   ]
  },
  {
   "cell_type": "code",
   "execution_count": 6,
   "id": "db5d83a9-63dc-4bc8-96f7-ac0018ea68ce",
   "metadata": {},
   "outputs": [
    {
     "name": "stdout",
     "output_type": "stream",
     "text": [
      "Printing numbers 1 to 10 using a for loop:\n",
      "1\n",
      "2\n",
      "3\n",
      "4\n",
      "5\n",
      "6\n",
      "7\n",
      "8\n",
      "9\n",
      "10\n"
     ]
    }
   ],
   "source": [
    "print(\"Printing numbers 1 to 10 using a for loop:\")\n",
    "for i in range(1, 11):\n",
    "    print(i)"
   ]
  },
  {
   "cell_type": "code",
   "execution_count": 7,
   "id": "0106bdbf-46b7-4a06-9cb4-837662f1e209",
   "metadata": {},
   "outputs": [
    {
     "name": "stdout",
     "output_type": "stream",
     "text": [
      "Printing numbers 1 to 10 using a while loop:\n",
      "1\n",
      "2\n",
      "3\n",
      "4\n",
      "5\n",
      "6\n",
      "7\n",
      "8\n",
      "9\n",
      "10\n"
     ]
    }
   ],
   "source": [
    "print(\"Printing numbers 1 to 10 using a while loop:\")\n",
    "num = 1\n",
    "while num <= 10:\n",
    "    print(num)\n",
    "    num += 1"
   ]
  },
  {
   "cell_type": "code",
   "execution_count": null,
   "id": "56408635-de89-4970-8630-de46a134b719",
   "metadata": {},
   "outputs": [],
   "source": [
    "13. If you had a function named bacon() inside a module named spam, how would you call it after\n",
    "importing spam?"
   ]
  },
  {
   "cell_type": "code",
   "execution_count": null,
   "id": "1892fbc4-418f-4469-bfb2-83c83df78deb",
   "metadata": {},
   "outputs": [],
   "source": [
    "import spam\n",
    "\n",
    "# Call the bacon() function from the spam module\n",
    "spam.bacon()"
   ]
  }
 ],
 "metadata": {
  "kernelspec": {
   "display_name": "Python 3 (ipykernel)",
   "language": "python",
   "name": "python3"
  },
  "language_info": {
   "codemirror_mode": {
    "name": "ipython",
    "version": 3
   },
   "file_extension": ".py",
   "mimetype": "text/x-python",
   "name": "python",
   "nbconvert_exporter": "python",
   "pygments_lexer": "ipython3",
   "version": "3.11.7"
  }
 },
 "nbformat": 4,
 "nbformat_minor": 5
}
