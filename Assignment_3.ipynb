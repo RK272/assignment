{
 "cells": [
  {
   "cell_type": "code",
   "execution_count": null,
   "id": "564e0c94-409c-43e9-8adc-2dd3f5780040",
   "metadata": {},
   "outputs": [],
   "source": [
    "1. Why are functions advantageous to have in your programs?"
   ]
  },
  {
   "cell_type": "code",
   "execution_count": null,
   "id": "9f489ab6-f3f5-47fa-be3d-5787db5f7317",
   "metadata": {},
   "outputs": [],
   "source": [
    "Functions are advantageous in programs for several reasons:\n",
    "\n",
    "Modularity: Functions allow you to break down complex problems into smaller, more manageable pieces. Each function can perform a specific task,\n",
    "          making your code easier to understand and maintain.\n",
    "\n",
    "Reusability: Once a function is defined, it can be reused throughout your program or in different programs without rewriting the same code.\n",
    "          This reduces redundancy and saves time.\n",
    "\n",
    "Readability: Functions help organize code logically, making it easier for others (or yourself at a later time) to read and understand the program.\n",
    "             Each function's name can describe its purpose, providing context for its actions.\n",
    "\n",
    "Debugging: Isolating code into functions makes it easier to test and debug individual components of your program. If there's an issue, you can test \n",
    "          and fix a specific function without affecting the rest of the code.\n",
    "\n",
    "Maintainability: Functions make it simpler to update or modify code. Changes in functionality can often be made within a specific function without\n",
    "              impacting other parts of the program.\n",
    "\n",
    "Abstraction: Functions allow you to abstract away complex implementation details. Users of the function only need to understand the input and output\n",
    "            , not the internal workings, which simplifies the overall usage.\n",
    "\n",
    "Scalability: As programs grow larger, functions help manage complexity by structuring code into smaller, discrete units. \n",
    "            This modular approach is essential for scaling up applications."
   ]
  },
  {
   "cell_type": "code",
   "execution_count": null,
   "id": "a2d1f3a4-be7d-4fd5-ada5-2fd6b04a7238",
   "metadata": {},
   "outputs": [],
   "source": [
    "2. When does the code in a function run: when it&#39;s specified or when it&#39;s called?"
   ]
  },
  {
   "cell_type": "code",
   "execution_count": null,
   "id": "ec0db0c4-73e8-4d53-a792-660e8250ab0c",
   "metadata": {},
   "outputs": [],
   "source": [
    "The code in a function runs when the function is called, not when it is specified. When you define a function, you are essentially creating a blueprint\n",
    "for what the function will do when it is called. The actual execution of the code within the function occurs only when you call the function by its name."
   ]
  },
  {
   "cell_type": "code",
   "execution_count": null,
   "id": "b5464b3f-41d3-4eff-a17d-ce44870f6a80",
   "metadata": {},
   "outputs": [],
   "source": [
    "3. What statement creates a function?"
   ]
  },
  {
   "cell_type": "code",
   "execution_count": null,
   "id": "6df69d21-f99c-4fad-8eb6-5e40da761484",
   "metadata": {},
   "outputs": [],
   "source": [
    "In most programming languages, a function is created using a specific keyword followed by the function name, parentheses, and a block of code.\n",
    "For example, in Python, the def keyword is used to create a function."
   ]
  },
  {
   "cell_type": "code",
   "execution_count": null,
   "id": "fb96a67d-b925-4608-93b4-edd3bda08e2d",
   "metadata": {},
   "outputs": [],
   "source": [
    "4. What is the difference between a function and a function call?"
   ]
  },
  {
   "cell_type": "code",
   "execution_count": null,
   "id": "9e0a567a-8e0c-436d-8ed2-cae00253fc65",
   "metadata": {},
   "outputs": [],
   "source": [
    "A function is the block of code that performs a specific task, defined with a name and parameters.\n",
    "A function call is the action of executing the function by using its name and providing necessary arguments."
   ]
  },
  {
   "cell_type": "code",
   "execution_count": null,
   "id": "d4021a8b-b60a-467e-bdfc-87dd15154616",
   "metadata": {},
   "outputs": [],
   "source": [
    "5. How many global scopes are there in a Python program? How many local scopes?"
   ]
  },
  {
   "cell_type": "code",
   "execution_count": null,
   "id": "5b686a70-b6cd-4a3a-ac52-8a24fa73d289",
   "metadata": {},
   "outputs": [],
   "source": [
    "Global Scope:\n",
    "One Global Scope: There is a single global scope in a Python program, which exists from when the program starts to when it ends.\n",
    "Variables defined at the top level of a script or module, outside of any functions or classes, are in the global scope.\n",
    "Local Scopes:\n",
    "Multiple Local Scopes: Each function call creates a new local scope. Variables defined inside a function are in that function's\n",
    "local scope and are accessible only within that function. Every time a function is called, a new local scope is created, which means the number of \n",
    "local scopes is equal to the number of active function calls at any given time."
   ]
  },
  {
   "cell_type": "code",
   "execution_count": null,
   "id": "6de04084-03ab-43d3-89cf-ceae9ae929eb",
   "metadata": {},
   "outputs": [],
   "source": [
    "x = 10  # Global scope\n",
    "\n",
    "def foo():\n",
    "    y = 5  # Local scope within foo()\n",
    "    def bar():\n",
    "        z = 2  # Local scope within bar()\n",
    "        print(x)  # Accessing global variable\n",
    "        print(y)  # Accessing enclosing local variable\n",
    "        print(z)  # Accessing local variable of bar()\n",
    "    bar()\n",
    "    print(y)  # Accessing local variable of foo()\n",
    "    # print(z)  # This would raise an error because z is not in the scope of foo()\n",
    "\n",
    "foo()\n",
    "# print(y)  # This would raise an error because y is not in the global scope\n"
   ]
  },
  {
   "cell_type": "code",
   "execution_count": null,
   "id": "bde96335-daf7-4e30-829a-f842aba5e1ed",
   "metadata": {},
   "outputs": [],
   "source": [
    "6. What happens to variables in a local scope when the function call returns?"
   ]
  },
  {
   "cell_type": "code",
   "execution_count": null,
   "id": "47f8e64d-cf4c-4a0f-8d1c-f9e807295235",
   "metadata": {},
   "outputs": [],
   "source": [
    "When a function call returns, the local scope created for that function call is destroyed, and all the variables defined within that local\n",
    "scope are discarded. This means that the variables in the local scope cease to exist and cannot be accessed after the function has completed \n",
    "its execution and returned."
   ]
  },
  {
   "cell_type": "code",
   "execution_count": null,
   "id": "a02ca82e-5fbd-4bfa-be2a-8e075b85b985",
   "metadata": {},
   "outputs": [],
   "source": [
    "7. What is the concept of a return value? Is it possible to have a return value in an expression?"
   ]
  },
  {
   "cell_type": "code",
   "execution_count": null,
   "id": "0795e37e-5c0f-4b5d-8232-ef5e4e407429",
   "metadata": {},
   "outputs": [],
   "source": [
    "A return value in programming refers to the value that a function gives back to the part of the program that called it.\n",
    "When a function completes its execution, it can send data back to the caller through the return statement. \n",
    "This allows functions to perform tasks or calculations and then provide results that can be used elsewhere in the program"
   ]
  },
  {
   "cell_type": "code",
   "execution_count": null,
   "id": "485f3e30-9a00-404e-9a7a-587d30ec2621",
   "metadata": {},
   "outputs": [],
   "source": [
    "8. If a function does not have a return statement, what is the return value of a call to that function?"
   ]
  },
  {
   "cell_type": "code",
   "execution_count": null,
   "id": "2062f0e0-afa4-40e3-9470-93e366e4b41a",
   "metadata": {},
   "outputs": [],
   "source": [
    "If a function does not have a return statement, the return value of a call to that function is None."
   ]
  },
  {
   "cell_type": "code",
   "execution_count": null,
   "id": "20995916-23cc-4e2d-96df-4a4d72c1e12e",
   "metadata": {},
   "outputs": [],
   "source": [
    "9. How do you make a function variable refer to the global variable?"
   ]
  },
  {
   "cell_type": "code",
   "execution_count": null,
   "id": "af6b65c4-6f9f-4aa2-9792-d4755e4f73aa",
   "metadata": {},
   "outputs": [],
   "source": [
    "To make a function variable refer to a global variable in Python, you use the global keyword. This keyword tells Python that a particular variable \n",
    "inside a function is a global variable and should not be treated as a local variable."
   ]
  },
  {
   "cell_type": "code",
   "execution_count": null,
   "id": "1c70e56b-3468-4be0-b647-620eadf51610",
   "metadata": {},
   "outputs": [],
   "source": [
    "x = 10  # Global variable\n",
    "\n",
    "def modify_global_variable():\n",
    "    global x  # Declare that we are referring to the global variable x\n",
    "    x = 20    # Modify the global variable\n",
    "\n",
    "modify_global_variable()\n",
    "print(x)  # This will print: 20\n"
   ]
  },
  {
   "cell_type": "code",
   "execution_count": null,
   "id": "3b82afed-8efd-4a61-b774-f3be08befd35",
   "metadata": {},
   "outputs": [],
   "source": [
    "10. What is the data type of None?"
   ]
  },
  {
   "cell_type": "code",
   "execution_count": null,
   "id": "6409cd7e-6d2f-4541-958b-1d271cb394f4",
   "metadata": {},
   "outputs": [],
   "source": [
    "data type of None in Python is NoneType."
   ]
  },
  {
   "cell_type": "code",
   "execution_count": null,
   "id": "472281d0-cd78-4218-9eab-4278a2a18118",
   "metadata": {},
   "outputs": [],
   "source": [
    "11. What does the sentence import areallyourpetsnamederic do?"
   ]
  },
  {
   "cell_type": "code",
   "execution_count": null,
   "id": "cbef24a4-c0e4-47a9-9a08-34296ddef86f",
   "metadata": {},
   "outputs": [],
   "source": [
    "The sentence import areallyourpetsnamederic is syntactically incorrect in Python because it attempts to import a module named areallyourpetsnamederic, \n",
    "which is not a standard Python module nor a module that exists in any common Python environment."
   ]
  },
  {
   "cell_type": "code",
   "execution_count": null,
   "id": "c856cbf7-caa6-489c-ac59-9875df773530",
   "metadata": {},
   "outputs": [],
   "source": [
    "12. If you had a bacon() feature in a spam module, what would you call it after importing spam?"
   ]
  },
  {
   "cell_type": "code",
   "execution_count": null,
   "id": "baf217ac-f0b5-4c79-b3fa-2caf1e7d1218",
   "metadata": {},
   "outputs": [],
   "source": [
    "After importing the spam module, you can call the bacon() function using the dot notation, which specifies the module name followed by the function \n",
    "name:"
   ]
  },
  {
   "cell_type": "code",
   "execution_count": null,
   "id": "710dc4b4-0fc1-48ee-9f41-ad3c03db3ec1",
   "metadata": {},
   "outputs": [],
   "source": [
    "import spam\n",
    "\n",
    "spam.bacon()\n"
   ]
  },
  {
   "cell_type": "code",
   "execution_count": null,
   "id": "6324d42c-fd66-41ce-8698-025c04ca79f9",
   "metadata": {},
   "outputs": [],
   "source": [
    "13. What can you do to save a programme from crashing if it encounters an error?"
   ]
  },
  {
   "cell_type": "code",
   "execution_count": null,
   "id": "12e33487-81cb-4d64-99b4-9bd8f39a7de6",
   "metadata": {},
   "outputs": [],
   "source": [
    "To prevent a program from crashing when it encounters an error, you can use error handling techniques. In Python, this is typically done using \n",
    "try-except blocks. "
   ]
  },
  {
   "cell_type": "code",
   "execution_count": null,
   "id": "3c3294fa-93a0-471f-891b-859d37a68485",
   "metadata": {},
   "outputs": [],
   "source": [
    "try:\n",
    "    # Code that may raise an error\n",
    "    result = 10 / 0  # This will raise a ZeroDivisionError\n",
    "except ZeroDivisionError:\n",
    "    # Handle the specific error (ZeroDivisionError in this case)\n",
    "    print(\"Error: Division by zero!\")\n",
    "except:\n",
    "    # Handle any other unexpected errors\n",
    "    print(\"An error occurred!\")\n"
   ]
  },
  {
   "cell_type": "code",
   "execution_count": null,
   "id": "a452f340-5d4c-4c0d-9631-ef23fd982cad",
   "metadata": {},
   "outputs": [],
   "source": [
    "14. What is the purpose of the try clause? What is the purpose of the except clause?"
   ]
  },
  {
   "cell_type": "code",
   "execution_count": null,
   "id": "64821690-c1dd-442e-8227-87b3775995b8",
   "metadata": {},
   "outputs": [],
   "source": [
    "program execute in try clause and if any error comes it goes to except block and raise error"
   ]
  }
 ],
 "metadata": {
  "kernelspec": {
   "display_name": "Python 3 (ipykernel)",
   "language": "python",
   "name": "python3"
  },
  "language_info": {
   "codemirror_mode": {
    "name": "ipython",
    "version": 3
   },
   "file_extension": ".py",
   "mimetype": "text/x-python",
   "name": "python",
   "nbconvert_exporter": "python",
   "pygments_lexer": "ipython3",
   "version": "3.11.7"
  }
 },
 "nbformat": 4,
 "nbformat_minor": 5
}
