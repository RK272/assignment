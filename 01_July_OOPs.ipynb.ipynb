{
 "cells": [
  {
   "cell_type": "code",
   "execution_count": null,
   "id": "f0426750-abb7-4731-966c-93e00c59fbe7",
   "metadata": {},
   "outputs": [],
   "source": [
    "1. What is the primary goal of Object-Oriented Programming (OOP)?"
   ]
  },
  {
   "cell_type": "code",
   "execution_count": 1,
   "id": "135c5d85-5699-43a5-83cd-7543d1cfe89f",
   "metadata": {},
   "outputs": [
    {
     "ename": "SyntaxError",
     "evalue": "invalid syntax (2355119964.py, line 1)",
     "output_type": "error",
     "traceback": [
      "\u001b[1;36m  Cell \u001b[1;32mIn[1], line 1\u001b[1;36m\u001b[0m\n\u001b[1;33m    object oriented programming help to do programming in modular way and its easy to reuse and we can call any class\u001b[0m\n\u001b[1;37m           ^\u001b[0m\n\u001b[1;31mSyntaxError\u001b[0m\u001b[1;31m:\u001b[0m invalid syntax\n"
     ]
    }
   ],
   "source": [
    "object oriented programming help to do programming in modular way and its easy to reuse and we can call any class\n",
    "we defiened in in any where and we can use any function defined in some class in another class like that flexible\n",
    "if we write coding in oops manner"
   ]
  },
  {
   "cell_type": "code",
   "execution_count": null,
   "id": "be95c0d6-0e88-4df2-ad41-f0119b28eb4d",
   "metadata": {},
   "outputs": [],
   "source": [
    "2 What is an object in Python?"
   ]
  },
  {
   "cell_type": "code",
   "execution_count": null,
   "id": "9f79d080-4903-4fe9-9e4a-f3f7049ddb4c",
   "metadata": {},
   "outputs": [],
   "source": [
    "object is a instance in class \n",
    "\n",
    "example"
   ]
  },
  {
   "cell_type": "code",
   "execution_count": 2,
   "id": "40b95579-31b9-4b76-905e-4ee86a04ac16",
   "metadata": {},
   "outputs": [],
   "source": [
    "class sumcalulation:\n",
    "    def __init__(self,a,b):\n",
    "        self.firstnum=a\n",
    "        self.secondnumber=b\n",
    "\n",
    "    def sum_c(self):\n",
    "        return(self.firstnum+self.secondnumber)\n",
    "        "
   ]
  },
  {
   "cell_type": "code",
   "execution_count": 5,
   "id": "b294b8fd-e971-42b4-81b4-e8b82b310ba1",
   "metadata": {},
   "outputs": [],
   "source": [
    "obje=sumcalulation(4,8) #this was instance of class"
   ]
  },
  {
   "cell_type": "code",
   "execution_count": 9,
   "id": "0edeaa5e-939f-4a08-a604-6a771fed7069",
   "metadata": {},
   "outputs": [
    {
     "data": {
      "text/plain": [
       "12"
      ]
     },
     "execution_count": 9,
     "metadata": {},
     "output_type": "execute_result"
    }
   ],
   "source": [
    "obje.sum_c()"
   ]
  },
  {
   "cell_type": "code",
   "execution_count": null,
   "id": "03a1daff-ab2e-4c06-87f6-ed26ab378f93",
   "metadata": {},
   "outputs": [],
   "source": [
    "3 What is a class in Python?"
   ]
  },
  {
   "cell_type": "code",
   "execution_count": null,
   "id": "ceb1e194-7fed-4609-8ea5-d5d904081627",
   "metadata": {},
   "outputs": [],
   "source": [
    "in python class is the blueprint of creating object in class we can create objects and we can create  attribbute in class \n",
    "and we can define function in class in a class we can write difrent function and we can use them in difrent class also "
   ]
  },
  {
   "cell_type": "code",
   "execution_count": null,
   "id": "676c385d-85ed-4dcc-9421-489ecf057939",
   "metadata": {},
   "outputs": [],
   "source": [
    "4. What are attributes and methods in a class?"
   ]
  },
  {
   "cell_type": "code",
   "execution_count": null,
   "id": "bae37b7c-292d-4f6b-b93d-88d4fa5bffce",
   "metadata": {},
   "outputs": [],
   "source": [
    "attribute is a variable that can store data for object\n",
    "there are two type of attribute one is class attribute that can use any instance in class there are defined inside of class and outside of all method\n",
    "and another one is instance attribute they defined for specific instances in class \n",
    "\n",
    "Methods are functions defined inside a class that describe the behaviors of the objects created from the class. There are three main types of methods:\n",
    "\n",
    "Instance Methods: These methods operate on an instance of the class. They can access and modify the instance attributes. \n",
    "Instance methods must have self as their first parameter, which refers to the instance calling the method.\n",
    "\n",
    "Class Methods: These methods operate on the class itself rather than on instances of the class. They are defined using the @classmethod \n",
    "decorator and have cls as their first parameter, which refers to the class.\n",
    "\n",
    "Static Methods: These methods do not operate on an instance or the class itself. They are defined using the @staticmethod decorator and do\n",
    "not take self or cls as their first parameter. They are typically used for utility functions related to the class.\n",
    "\n"
   ]
  },
  {
   "cell_type": "code",
   "execution_count": 9,
   "id": "c059346e-d7c7-4972-8ed1-d6fa75ec1a4f",
   "metadata": {},
   "outputs": [
    {
     "data": {
      "text/plain": [
       "'rony is 2 years old'"
      ]
     },
     "execution_count": 9,
     "metadata": {},
     "output_type": "execute_result"
    }
   ],
   "source": [
    "#instance method\n",
    "class Dog:\n",
    "    def description(self,name,age):\n",
    "        self.name=name\n",
    "        self.age=age\n",
    "        return f\"{self.name} is {self.age} years old\"\n",
    "d=Dog()\n",
    "d.description(\"rony\",2)\n"
   ]
  },
  {
   "cell_type": "code",
   "execution_count": 19,
   "id": "bba920b4-0ea6-4cf5-867f-a43077080421",
   "metadata": {},
   "outputs": [
    {
     "name": "stdout",
     "output_type": "stream",
     "text": [
      "Canis familiaris\n"
     ]
    }
   ],
   "source": [
    "#class method\n",
    "class Dog:\n",
    "    species = \"Canis familiaris\"\n",
    "    \n",
    "    @classmethod\n",
    "    def get_species(cls):\n",
    "        return cls.species\n",
    "print(Dog.get_species())"
   ]
  },
  {
   "cell_type": "code",
   "execution_count": 20,
   "id": "52cdf12a-d5a0-421a-a343-933aa87be55d",
   "metadata": {},
   "outputs": [
    {
     "name": "stdout",
     "output_type": "stream",
     "text": [
      "Woof!\n"
     ]
    }
   ],
   "source": [
    "#static method\n",
    "class Dog:\n",
    "    @staticmethod\n",
    "    def bark():\n",
    "        return \"Woof!\"\n",
    "\n",
    "# Example usage\n",
    "print(Dog.bark()) "
   ]
  },
  {
   "cell_type": "code",
   "execution_count": 16,
   "id": "e6fd2f52-978a-40b8-9e5b-cb7bbe2194c9",
   "metadata": {},
   "outputs": [
    {
     "data": {
      "text/plain": [
       "<bound method Dog.get_species of <class '__main__.Dog'>>"
      ]
     },
     "execution_count": 16,
     "metadata": {},
     "output_type": "execute_result"
    }
   ],
   "source": []
  },
  {
   "cell_type": "code",
   "execution_count": null,
   "id": "c091a6b1-fc6d-48c4-8a36-3b565d758eb2",
   "metadata": {},
   "outputs": [],
   "source": [
    "5. What is the difference between class variables and instance variables in Python?"
   ]
  },
  {
   "cell_type": "code",
   "execution_count": null,
   "id": "23cfe170-0475-44a3-b435-daa38d542f5c",
   "metadata": {},
   "outputs": [],
   "source": [
    "In Python, class variables and instance variables are both used to store data within a class, but they have different scopes and lifetimes. \n",
    "Here are the key differences between them:\n",
    "Class Variables\n",
    "Definition and Scope: Class variables are defined within the class construction but outside any instance methods.\n",
    "They are shared across all instances of the class, meaning that all instances will have the same value for a class variable unless it is modified.\n",
    "Lifetime: Class variables exist as long as the class is in scope.\n",
    "Access: Class variables can be accessed using the class name or through an instance of the class. However, they should be modified using the class name to ensure the change is reflected across all instances.\n",
    "Use Case: Class variables are used when you want to share a variable across all instances of a class.\n",
    "\n",
    "\n",
    "\n",
    "Instance Variables\n",
    "Instance variables are attributes that are specific to each instance of a class. They are defined within instance methods, typically \n",
    "within the __init__ method.\n",
    "Scope: The scope of instance variables is the individual instance of the class. Each instance has its own copy of the instance variables.\n",
    "Usage: Instance variables are used for attributes that can vary between different instances, such as unique properties of an object.\n",
    "\n",
    "\n",
    "Class Variables: Shared across all instances of the class.\n",
    "Instance Variables: Specific to each instance of the class.\n",
    "Definition Location:\n",
    "\n",
    "Class Variables: Defined directly within the class, outside of any methods.\n",
    "Instance Variables: Defined within methods, usually in the __init__ method.\n",
    "Access:\n",
    "Class Variables: Accessed using the class name or through any instance.\n",
    "Instance Variables: Accessed through the instance using the self keyword.\n",
    "Modification:\n",
    "Class Variables: Changes to class variables affect all instances of the class.\n",
    "Instance Variables: Changes to instance variables affect only that particular instance."
   ]
  },
  {
   "cell_type": "code",
   "execution_count": 21,
   "id": "a3070c13-6123-4b8f-8941-8180d6dc7a5c",
   "metadata": {},
   "outputs": [
    {
     "name": "stdout",
     "output_type": "stream",
     "text": [
      "Canis familiaris\n"
     ]
    }
   ],
   "source": [
    "class Dog:\n",
    "    species = \"Canis familiaris\"  # Class variable\n",
    "    \n",
    "    def __init__(self, name, age):\n",
    "        self.name = name  # Instance variable\n",
    "        self.age = age    # Instance variable\n",
    "\n",
    "dog1 = Dog(\"Buddy\", 3)\n",
    "dog2 = Dog(\"Milo\", 5)\n",
    "\n",
    "print(dog1.species) "
   ]
  },
  {
   "cell_type": "code",
   "execution_count": 22,
   "id": "634a0160-3c16-41a0-a164-17a5fabd86ad",
   "metadata": {},
   "outputs": [
    {
     "name": "stdout",
     "output_type": "stream",
     "text": [
      "Buddy\n"
     ]
    }
   ],
   "source": [
    "class Dog:\n",
    "    def __init__(self, name, age):\n",
    "        self.name = name  # Instance variable\n",
    "        self.age = age    # Instance variable\n",
    "\n",
    "# Creating instances\n",
    "dog1 = Dog(\"Buddy\", 3)\n",
    "dog2 = Dog(\"Milo\", 5)\n",
    "\n",
    "# Accessing instance variables\n",
    "print(dog1.name) "
   ]
  },
  {
   "cell_type": "code",
   "execution_count": null,
   "id": "2887e822-f2c8-420f-ba0b-14771c5507de",
   "metadata": {},
   "outputs": [],
   "source": [
    "6. What is the purpose of the self parameter in Python class methods?"
   ]
  },
  {
   "cell_type": "code",
   "execution_count": 23,
   "id": "228fffb4-4650-4a0e-89c8-9dd0fc21f896",
   "metadata": {},
   "outputs": [
    {
     "ename": "SyntaxError",
     "evalue": "invalid syntax (2877150880.py, line 1)",
     "output_type": "error",
     "traceback": [
      "\u001b[1;36m  Cell \u001b[1;32mIn[23], line 1\u001b[1;36m\u001b[0m\n\u001b[1;33m    1. Accessing Instance Variables\u001b[0m\n\u001b[1;37m       ^\u001b[0m\n\u001b[1;31mSyntaxError\u001b[0m\u001b[1;31m:\u001b[0m invalid syntax\n"
     ]
    }
   ],
   "source": [
    "1. Accessing Instance Variables\n",
    "self is used to access instance variables within class methods. It allows each instance of a class to have its own set of attributes.\n",
    "When an instance method is called, self refers to the instance that invoked the method.\n",
    "\n",
    " \n",
    "\n",
    "2. Differentiating Between Class and Instance Variables\n",
    "Using self, you can distinguish between class variables and instance variables with the same name. Without self, there would be no way to differentiate which variables or methods belong to the class and which belong to the instance.\n",
    "\n",
    "\n",
    "3. Allowing Method Overloading and Polymorphism\n",
    "self allows instance methods to be defined in a way that supports polymorphism. Different instances of the same class can behave differently based on their state (values of their instance variables).\n",
    "\n",
    "\n",
    "4. Ensuring Consistency Across Methods\n",
    "By convention, using self as the first parameter in instance methods ensures consistency and readability across Python codebases. It makes it clear that the method operates on an instance of the class.\n",
    "\n",
    "\n",
    "The self parameter is essential in Python class methods because it:\n",
    "\n",
    "Allows access to instance variables and methods.\n",
    "Differentiates between class variables and instance variables.\n",
    "Supports polymorphism by enabling instance-specific behavior.\n",
    "Provides consistency and readability in object-oriented programming.\n",
    "self is not a keyword but a convention; you can name it anything, but using self is standard practice and is strongly recommended for clarity and consistency."
   ]
  },
  {
   "cell_type": "code",
   "execution_count": null,
   "id": "7eac1113-3d82-4a5b-a99c-6e8f9bd0e994",
   "metadata": {},
   "outputs": [],
   "source": [
    "7. For a library management system, you have to design the \"Book\" class with OOP\n",
    "principles in mind. The “Book” class will have following attributes:\n",
    "a. title: Represents the title of the book.\n",
    "b. author: Represents the author(s) of the book.\n",
    "c. isbn: Represents the ISBN (International Standard Book Number) of the book.\n",
    "d. publication_year: Represents the year of publication of the book.\n",
    "e. available_copies: Represents the number of copies available for checkout.\n",
    "The class will also include the following methods:\n",
    "a. check_out(self): Decrements the available copies by one if there are copies\n",
    "available for checkout.\n",
    "b. return_book(self): Increments the available copies by one when a book is\n",
    "returned.\n",
    "c. display_book_info(self): Displays the information about the book, including its\n",
    "attributes and the number of available copies."
   ]
  },
  {
   "cell_type": "code",
   "execution_count": 24,
   "id": "7dbee059-b858-41f6-a319-74c42ad49631",
   "metadata": {},
   "outputs": [
    {
     "name": "stdout",
     "output_type": "stream",
     "text": [
      "Title: The Great Gatsby\n",
      "Author: F. Scott Fitzgerald\n",
      "ISBN: 9780743273565\n",
      "Publication Year: 1925\n",
      "Available Copies: 3\n",
      "Checked out 'The Great Gatsby'. Copies left: 2\n",
      "Returned 'The Great Gatsby'. Copies available: 3\n",
      "Title: The Great Gatsby\n",
      "Author: F. Scott Fitzgerald\n",
      "ISBN: 9780743273565\n",
      "Publication Year: 1925\n",
      "Available Copies: 3\n"
     ]
    }
   ],
   "source": [
    "class Book:\n",
    "    def __init__(self, title, author, isbn, publication_year, available_copies):\n",
    "        self.title = title\n",
    "        self.author = author\n",
    "        self.isbn = isbn\n",
    "        self.publication_year = publication_year\n",
    "        self.available_copies = available_copies\n",
    "\n",
    "    def check_out(self):\n",
    "        if self.available_copies > 0:\n",
    "            self.available_copies -= 1\n",
    "            print(f\"Checked out '{self.title}'. Copies left: {self.available_copies}\")\n",
    "        else:\n",
    "            print(f\"No copies of '{self.title}' available for checkout.\")\n",
    "\n",
    "    def return_book(self):\n",
    "        self.available_copies += 1\n",
    "        print(f\"Returned '{self.title}'. Copies available: {self.available_copies}\")\n",
    "\n",
    "    def display_book_info(self):\n",
    "        print(f\"Title: {self.title}\")\n",
    "        print(f\"Author: {self.author}\")\n",
    "        print(f\"ISBN: {self.isbn}\")\n",
    "        print(f\"Publication Year: {self.publication_year}\")\n",
    "        print(f\"Available Copies: {self.available_copies}\")\n",
    "\n",
    "# Example usage:\n",
    "book = Book(\"The Great Gatsby\", \"F. Scott Fitzgerald\", \"9780743273565\", 1925, 3)\n",
    "book.display_book_info()\n",
    "book.check_out()\n",
    "book.return_book()\n",
    "book.display_book_info()"
   ]
  },
  {
   "cell_type": "code",
   "execution_count": null,
   "id": "8649ab10-878d-460b-a603-755f5ec274b3",
   "metadata": {},
   "outputs": [],
   "source": [
    "8. For a ticket booking system, you have to design the \"Ticket\" class with OOP\n",
    "principles in mind. The “Ticket” class should have the following attributes:\n",
    "a. ticket_id: Represents the unique identifier for the ticket.\n",
    "b. event_name: Represents the name of the event.\n",
    "c. event_date: Represents the date of the event.\n",
    "d. venue: Represents the venue of the event.\n",
    "e. seat_number: Represents the seat number associated with the ticket.\n",
    "f. price: Represents the price of the ticket.\n",
    "g. is_reserved: Represents the reservation status of the ticket.\n",
    "The class also includes the following methods:\n",
    "a. reserve_ticket(self): Marks the ticket as reserved if it is not already reserved.\n",
    "b. cancel_reservation(self): Cancels the reservation of the ticket if it is already\n",
    "reserved.\n",
    "c. display_ticket_info(self): Displays the information about the ticket, including its\n",
    "attributes and reservation status."
   ]
  },
  {
   "cell_type": "code",
   "execution_count": 25,
   "id": "85e33e67-afe7-40d4-b9f6-8a48ef6ed15f",
   "metadata": {},
   "outputs": [
    {
     "name": "stdout",
     "output_type": "stream",
     "text": [
      "Ticket ID: T12345\n",
      "Event Name: Rock Concert\n",
      "Event Date: 2024-07-15\n",
      "Venue: Stadium\n",
      "Seat Number: A23\n",
      "Price: $120.50\n",
      "Reservation Status: Not Reserved\n",
      "Ticket T12345 for 'Rock Concert' has been reserved.\n",
      "Ticket ID: T12345\n",
      "Event Name: Rock Concert\n",
      "Event Date: 2024-07-15\n",
      "Venue: Stadium\n",
      "Seat Number: A23\n",
      "Price: $120.50\n",
      "Reservation Status: Reserved\n",
      "Reservation for ticket T12345 for 'Rock Concert' has been canceled.\n",
      "Ticket ID: T12345\n",
      "Event Name: Rock Concert\n",
      "Event Date: 2024-07-15\n",
      "Venue: Stadium\n",
      "Seat Number: A23\n",
      "Price: $120.50\n",
      "Reservation Status: Not Reserved\n"
     ]
    }
   ],
   "source": [
    "class Ticket:\n",
    "    def __init__(self, ticket_id, event_name, event_date, venue, seat_number, price):\n",
    "        self.ticket_id = ticket_id\n",
    "        self.event_name = event_name\n",
    "        self.event_date = event_date\n",
    "        self.venue = venue\n",
    "        self.seat_number = seat_number\n",
    "        self.price = price\n",
    "        self.is_reserved = False\n",
    "\n",
    "    def reserve_ticket(self):\n",
    "        if not self.is_reserved:\n",
    "            self.is_reserved = True\n",
    "            print(f\"Ticket {self.ticket_id} for '{self.event_name}' has been reserved.\")\n",
    "        else:\n",
    "            print(f\"Ticket {self.ticket_id} for '{self.event_name}' is already reserved.\")\n",
    "\n",
    "    def cancel_reservation(self):\n",
    "        if self.is_reserved:\n",
    "            self.is_reserved = False\n",
    "            print(f\"Reservation for ticket {self.ticket_id} for '{self.event_name}' has been canceled.\")\n",
    "        else:\n",
    "            print(f\"Ticket {self.ticket_id} for '{self.event_name}' is not reserved.\")\n",
    "\n",
    "    def display_ticket_info(self):\n",
    "        print(f\"Ticket ID: {self.ticket_id}\")\n",
    "        print(f\"Event Name: {self.event_name}\")\n",
    "        print(f\"Event Date: {self.event_date}\")\n",
    "        print(f\"Venue: {self.venue}\")\n",
    "        print(f\"Seat Number: {self.seat_number}\")\n",
    "        print(f\"Price: ${self.price:.2f}\")\n",
    "        print(f\"Reservation Status: {'Reserved' if self.is_reserved else 'Not Reserved'}\")\n",
    "\n",
    "# Example usage:\n",
    "ticket = Ticket(\"T12345\", \"Rock Concert\", \"2024-07-15\", \"Stadium\", \"A23\", 120.50)\n",
    "ticket.display_ticket_info()\n",
    "ticket.reserve_ticket()\n",
    "ticket.display_ticket_info()\n",
    "ticket.cancel_reservation()\n",
    "ticket.display_ticket_info()"
   ]
  },
  {
   "cell_type": "code",
   "execution_count": null,
   "id": "ccb59e7d-bef2-4680-9ec1-f0feca789bca",
   "metadata": {},
   "outputs": [],
   "source": [
    "9. You are creating a shopping cart for an e-commerce website. Using OOP to model\n",
    "the \"ShoppingCart\" functionality the class should contain following attributes and\n",
    "methods:\n",
    "a. items: Represents the list of items in the shopping cart.\n",
    "The class also includes the following methods:\n",
    "\n",
    "a. add_item(self, item): Adds an item to the shopping cart by appending it to the\n",
    "list of items.\n",
    "b. remove_item(self, item): Removes an item from the shopping cart if it exists in\n",
    "the list.\n",
    "c. view_cart(self): Displays the items currently present in the shopping cart.\n",
    "d. clear_cart(self): Clears all items from the shopping cart by reassigning an\n",
    "empty list to the items attribute."
   ]
  },
  {
   "cell_type": "code",
   "execution_count": 26,
   "id": "17b6d46c-3237-4ae3-b1bf-849d13c8b48a",
   "metadata": {},
   "outputs": [
    {
     "name": "stdout",
     "output_type": "stream",
     "text": [
      "Added Laptop to the cart.\n",
      "Added Smartphone to the cart.\n",
      "Items in your shopping cart:\n",
      "- Laptop\n",
      "- Smartphone\n",
      "Removed Smartphone from the cart.\n",
      "Items in your shopping cart:\n",
      "- Laptop\n",
      "Cleared all items from the cart.\n",
      "Your shopping cart is empty.\n"
     ]
    }
   ],
   "source": [
    "class ShoppingCart:\n",
    "    def __init__(self):\n",
    "        self.items = []\n",
    "\n",
    "    def add_item(self, item):\n",
    "        self.items.append(item)\n",
    "        print(f\"Added {item} to the cart.\")\n",
    "\n",
    "    def remove_item(self, item):\n",
    "        if item in self.items:\n",
    "            self.items.remove(item)\n",
    "            print(f\"Removed {item} from the cart.\")\n",
    "        else:\n",
    "            print(f\"{item} is not in the cart.\")\n",
    "\n",
    "    def view_cart(self):\n",
    "        if self.items:\n",
    "            print(\"Items in your shopping cart:\")\n",
    "            for item in self.items:\n",
    "                print(f\"- {item}\")\n",
    "        else:\n",
    "            print(\"Your shopping cart is empty.\")\n",
    "\n",
    "    def clear_cart(self):\n",
    "        self.items = []\n",
    "        print(\"Cleared all items from the cart.\")\n",
    "\n",
    "# Example usage:\n",
    "cart = ShoppingCart()\n",
    "cart.add_item(\"Laptop\")\n",
    "cart.add_item(\"Smartphone\")\n",
    "cart.view_cart()\n",
    "cart.remove_item(\"Smartphone\")\n",
    "cart.view_cart()\n",
    "cart.clear_cart()\n",
    "cart.view_cart()\n"
   ]
  },
  {
   "cell_type": "code",
   "execution_count": null,
   "id": "ca3c94c2-c1f2-46a8-8860-e91aaaffa4b5",
   "metadata": {},
   "outputs": [],
   "source": [
    "10. Imagine a school management system. You have to design the \"Student\" class using\n",
    "OOP concepts.The “Student” class has the following attributes:\n",
    "a. name: Represents the name of the student.\n",
    "b. age: Represents the age of the student.\n",
    "c. grade: Represents the grade or class of the student.\n",
    "d. student_id: Represents the unique identifier for the student.\n",
    "e. attendance: Represents the attendance record of the student.\n",
    "The class should also include the following methods:\n",
    "a. update_attendance(self, date, status): Updates the attendance record of the\n",
    "student for a given date with the provided status (e.g., present or absent).\n",
    "b. get_attendance(self): Returns the attendance record of the student.\n",
    "c. get_average_attendance(self): Calculates and returns the average\n",
    "attendance percentage of the student based on their attendance record."
   ]
  },
  {
   "cell_type": "code",
   "execution_count": 27,
   "id": "db05f2db-95c1-4cee-a40d-c1aad9fb8251",
   "metadata": {},
   "outputs": [
    {
     "name": "stdout",
     "output_type": "stream",
     "text": [
      "Updated attendance for Alice Johnson on 2024-06-01 to present.\n",
      "Updated attendance for Alice Johnson on 2024-06-02 to absent.\n",
      "Updated attendance for Alice Johnson on 2024-06-03 to present.\n",
      "{'2024-06-01': 'present', '2024-06-02': 'absent', '2024-06-03': 'present'}\n",
      "Average Attendance: 66.67%\n",
      "Student ID: S12345\n",
      "Name: Alice Johnson\n",
      "Age: 16\n",
      "Grade: 10th Grade\n",
      "Attendance Record: {'2024-06-01': 'present', '2024-06-02': 'absent', '2024-06-03': 'present'}\n",
      "Average Attendance: 66.67%\n"
     ]
    }
   ],
   "source": [
    "class Student:\n",
    "    def __init__(self, name, age, grade, student_id):\n",
    "        self.name = name\n",
    "        self.age = age\n",
    "        self.grade = grade\n",
    "        self.student_id = student_id\n",
    "        self.attendance = {}\n",
    "\n",
    "    def update_attendance(self, date, status):\n",
    "        \"\"\"\n",
    "        Updates the attendance record for a given date with the provided status.\n",
    "        Status should be 'present' or 'absent'.\n",
    "        \"\"\"\n",
    "        self.attendance[date] = status\n",
    "        print(f\"Updated attendance for {self.name} on {date} to {status}.\")\n",
    "\n",
    "    def get_attendance(self):\n",
    "        \"\"\"Returns the attendance record of the student.\"\"\"\n",
    "        return self.attendance\n",
    "\n",
    "    def get_average_attendance(self):\n",
    "        \"\"\"Calculates and returns the average attendance percentage of the student.\"\"\"\n",
    "        total_days = len(self.attendance)\n",
    "        if total_days == 0:\n",
    "            return 0\n",
    "        present_days = sum(1 for status in self.attendance.values() if status == 'present')\n",
    "        return (present_days / total_days) * 100\n",
    "\n",
    "    def display_student_info(self):\n",
    "        \"\"\"Displays the student's information.\"\"\"\n",
    "        print(f\"Student ID: {self.student_id}\")\n",
    "        print(f\"Name: {self.name}\")\n",
    "        print(f\"Age: {self.age}\")\n",
    "        print(f\"Grade: {self.grade}\")\n",
    "        print(f\"Attendance Record: {self.attendance}\")\n",
    "        print(f\"Average Attendance: {self.get_average_attendance():.2f}%\")\n",
    "\n",
    "# Example usage:\n",
    "student = Student(\"Alice Johnson\", 16, \"10th Grade\", \"S12345\")\n",
    "student.update_attendance(\"2024-06-01\", \"present\")\n",
    "student.update_attendance(\"2024-06-02\", \"absent\")\n",
    "student.update_attendance(\"2024-06-03\", \"present\")\n",
    "print(student.get_attendance())\n",
    "print(f\"Average Attendance: {student.get_average_attendance():.2f}%\")\n",
    "student.display_student_info()\n"
   ]
  },
  {
   "cell_type": "code",
   "execution_count": null,
   "id": "ea03d411-a20b-4bbb-ad37-47874fee11de",
   "metadata": {},
   "outputs": [],
   "source": []
  }
 ],
 "metadata": {
  "kernelspec": {
   "display_name": "Python 3 (ipykernel)",
   "language": "python",
   "name": "python3"
  },
  "language_info": {
   "codemirror_mode": {
    "name": "ipython",
    "version": 3
   },
   "file_extension": ".py",
   "mimetype": "text/x-python",
   "name": "python",
   "nbconvert_exporter": "python",
   "pygments_lexer": "ipython3",
   "version": "3.11.7"
  }
 },
 "nbformat": 4,
 "nbformat_minor": 5
}
