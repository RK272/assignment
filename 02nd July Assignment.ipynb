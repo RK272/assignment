{
 "cells": [
  {
   "cell_type": "code",
   "execution_count": null,
   "id": "508b75d4-5b94-45d0-a30a-84a3daf3414b",
   "metadata": {},
   "outputs": [],
   "source": [
    "1. Explain what inheritance is in object-oriented programming and why it is used."
   ]
  },
  {
   "cell_type": "code",
   "execution_count": null,
   "id": "b4cc8acf-c630-4d69-8eb6-f8cf622fafad",
   "metadata": {},
   "outputs": [],
   "source": [
    "inheritence is the mechanisam that allow inherit instance or properties of a class to another \n",
    "\n",
    "from parent class inheriting its property to new sub class "
   ]
  },
  {
   "cell_type": "code",
   "execution_count": 8,
   "id": "896e4f9c-525a-4d6b-950b-845514e499fa",
   "metadata": {},
   "outputs": [],
   "source": [
    "class animal:\n",
    "    def __init__(self,name):\n",
    "        self.name=name\n",
    "\n",
    "    def speak1(self):\n",
    "        pass\n",
    "\n",
    "\n",
    "class dog(animal):\n",
    "    def speak(self):\n",
    "        return f\"{self.name} woo\""
   ]
  },
  {
   "cell_type": "code",
   "execution_count": 9,
   "id": "cd328510-f03a-4f71-801a-93a12c89d329",
   "metadata": {},
   "outputs": [],
   "source": [
    "d=dog(\"rony\")"
   ]
  },
  {
   "cell_type": "code",
   "execution_count": 10,
   "id": "76ca1d95-ae35-4582-be47-a8bb1e0c3fb1",
   "metadata": {},
   "outputs": [
    {
     "data": {
      "text/plain": [
       "'rony woo'"
      ]
     },
     "execution_count": 10,
     "metadata": {},
     "output_type": "execute_result"
    }
   ],
   "source": [
    "d.speak()"
   ]
  },
  {
   "cell_type": "code",
   "execution_count": null,
   "id": "9f06837a-89b8-4c5b-a350-0e606942edbc",
   "metadata": {},
   "outputs": [],
   "source": [
    "2. Discuss the concept of single inheritance and multiple inheritance, highlighting their\n",
    "differences and advantages."
   ]
  },
  {
   "cell_type": "code",
   "execution_count": null,
   "id": "4b49d5b9-7f62-408a-8cbc-7380ceb5685c",
   "metadata": {},
   "outputs": [],
   "source": [
    "Single Inheritance\n",
    "Concept:\n",
    "Single inheritance refers to a scenario where a class (subclass) inherits from only one superclass. This is the simplest form of inheritance,\n",
    "where a subclass derives properties and behaviors from a single parent class.\n",
    "\n",
    "Multiple Inheritance\n",
    "Concept:\n",
    "Multiple inheritance allows a class (subclass) to inherit from more than one superclass. \n",
    "This means the subclass can combine and utilize properties and behaviors from multiple parent classes."
   ]
  },
  {
   "cell_type": "code",
   "execution_count": 32,
   "id": "3c238f64-3f1c-46dd-a258-ac816812b235",
   "metadata": {},
   "outputs": [
    {
     "name": "stdout",
     "output_type": "stream",
     "text": [
      "Some sound\n"
     ]
    }
   ],
   "source": [
    "#single inheritence\n",
    "\n",
    "class Animal:\n",
    "    def speak1(self):\n",
    "        return \"Some sound\"\n",
    "\n",
    "class Dog(Animal):\n",
    "    def speak(self):\n",
    "        return \"Woof!\"\n",
    "\n",
    "dog = Dog()\n",
    "print(dog.speak1()) "
   ]
  },
  {
   "cell_type": "code",
   "execution_count": 33,
   "id": "9c886dcd-49a6-48ec-9fbe-ef9231876542",
   "metadata": {},
   "outputs": [
    {
     "name": "stdout",
     "output_type": "stream",
     "text": [
      "Woof!\n",
      "True\n"
     ]
    }
   ],
   "source": [
    "#multi inheritence\n",
    "class Animal:\n",
    "    def speak(self):\n",
    "        return \"Some sound\"\n",
    "\n",
    "class Mammal:\n",
    "    def has_fur(self):\n",
    "        return True\n",
    "\n",
    "class Dog(Animal, Mammal):\n",
    "    def speak(self):\n",
    "        return \"Woof!\"\n",
    "\n",
    "dog = Dog()\n",
    "print(dog.speak())  # Output: Woof!\n",
    "print(dog.has_fur())  # Output: True"
   ]
  },
  {
   "cell_type": "code",
   "execution_count": null,
   "id": "59f85b76-d4d3-45cd-8c52-844c89857784",
   "metadata": {},
   "outputs": [],
   "source": [
    "3. Explain the terms \"base class\" and \"derived class\" in the context of inheritance."
   ]
  },
  {
   "cell_type": "code",
   "execution_count": null,
   "id": "20f4b883-a41a-4b0b-b242-bb8ede079402",
   "metadata": {},
   "outputs": [],
   "source": [
    "A base class, also known as a superclass or parent class, is the class that provides attributes and methods that can be inherited by another class.\n",
    "It serves as the foundation upon which derived classes are built."
   ]
  },
  {
   "cell_type": "code",
   "execution_count": null,
   "id": "9f63d85c-a1d1-4433-9b17-69306501b72f",
   "metadata": {},
   "outputs": [],
   "source": [
    "A derived class, also known as a subclass or child class, is a class that inherits attributes and methods from a base class. It can add new attributes and methods or override existing ones \n",
    "from the base class to provide specific functionality."
   ]
  },
  {
   "cell_type": "code",
   "execution_count": null,
   "id": "73d96361-46d2-4b6c-824c-1b3b4c979fdd",
   "metadata": {},
   "outputs": [],
   "source": [
    "4. What is the significance of the \"protected\" access modifier in inheritance? How does\n",
    "it differ from \"private\" and \"public\" modifiers?"
   ]
  },
  {
   "cell_type": "code",
   "execution_count": null,
   "id": "3d5caf95-348d-45dc-91ab-2e13c21e430d",
   "metadata": {},
   "outputs": [],
   "source": [
    "Public Access Modifier\n",
    "Definition:\n",
    "\n",
    "Members declared as public are accessible from any other code in the program. There are no restrictions on their access.\n",
    "Significance:\n",
    "\n",
    "Public members can be accessed and modified by any class, promoting high visibility and accessibility.\n",
    "\n",
    "Protected Access Modifier\n",
    "Definition:\n",
    "\n",
    "Members declared as protected are accessible within their own class and by derived class instances. \n",
    "In Python, protected members are indicated by a single underscore prefix (e.g., _attribute).\n",
    "Significance:\n",
    "\n",
    "Protected members provide a way to allow derived classes to access and modify certain data while restricting access \n",
    "from outside the class hierarchy. This is useful for internal class functionality \n",
    "that should not be exposed to the outside world but is necessary for subclasses.\n",
    "\n",
    "Private Access Modifier\n",
    "Definition:\n",
    "\n",
    "Members declared as private are accessible only within their own class. They are not accessible by derived classes or other classes.\n",
    "In Python, private members are indicated by a double underscore prefix (e.g., __attribute).\n",
    "Significance:\n",
    "\n",
    "Private members are used to encapsulate data and methods that should not be accessible or modified outside the class.\n",
    "This ensures data hiding and maintains the integrity of the class's internal state.\n"
   ]
  },
  {
   "cell_type": "code",
   "execution_count": 34,
   "id": "8c40ea96-e640-4e72-90a1-015006f43173",
   "metadata": {},
   "outputs": [
    {
     "name": "stdout",
     "output_type": "stream",
     "text": [
      "Buddy\n",
      "Some sound\n"
     ]
    }
   ],
   "source": [
    "class Animal:\n",
    "    def __init__(self, name):\n",
    "        self.name = name  # Public attribute\n",
    "\n",
    "    def speak(self):\n",
    "        return \"Some sound\"  # Public method\n",
    "\n",
    "dog = Animal(\"Buddy\")\n",
    "print(dog.name)  # Accessible\n",
    "print(dog.speak())  # Accessible\n"
   ]
  },
  {
   "cell_type": "code",
   "execution_count": 35,
   "id": "723680fd-eaf6-4bc2-9135-22134d4b4512",
   "metadata": {},
   "outputs": [
    {
     "name": "stdout",
     "output_type": "stream",
     "text": [
      "Buddy says Woof!\n",
      "Buddy\n"
     ]
    }
   ],
   "source": [
    "class Animal:\n",
    "    def __init__(self, name, age):\n",
    "        self._name = name  # Protected attribute\n",
    "        self._age = age  # Protected attribute\n",
    "\n",
    "    def _speak(self):\n",
    "        return \"Some sound\"  # Protected method\n",
    "\n",
    "class Dog(Animal):\n",
    "    def speak(self):\n",
    "        return f\"{self._name} says Woof!\"  # Accessing protected attribute\n",
    "\n",
    "dog = Dog(\"Buddy\", 5)\n",
    "print(dog.speak())  # Accessible\n",
    "print(dog._name)  # Accessible but not recommended\n"
   ]
  },
  {
   "cell_type": "code",
   "execution_count": 38,
   "id": "8a6c74a0-324d-4646-a6ac-a4d34f728d83",
   "metadata": {},
   "outputs": [],
   "source": [
    "class Animal:\n",
    "    def __init__(self, name, age):\n",
    "        self.__name = name  # Private attribute\n",
    "        self.__age = age  # Private attribute\n",
    "\n",
    "    def __speak(self):\n",
    "        return \"Some sound\"  # Private method\n",
    "\n",
    "    def get_name(self):\n",
    "        return self.__name  # Public method to access private attribute\n"
   ]
  },
  {
   "cell_type": "code",
   "execution_count": 39,
   "id": "ffba9cc1-e468-48da-aae9-a61b6cb5288b",
   "metadata": {},
   "outputs": [],
   "source": [
    "dog = Animal(\"Buddy\", 5)"
   ]
  },
  {
   "cell_type": "code",
   "execution_count": 40,
   "id": "4a35a59d-53b9-40b2-8012-0b43899b823a",
   "metadata": {},
   "outputs": [
    {
     "name": "stdout",
     "output_type": "stream",
     "text": [
      "Buddy\n"
     ]
    }
   ],
   "source": [
    "print(dog.get_name())"
   ]
  },
  {
   "cell_type": "code",
   "execution_count": 41,
   "id": "54b6333d-fb0c-44da-afe2-338bfd2f280e",
   "metadata": {},
   "outputs": [
    {
     "ename": "AttributeError",
     "evalue": "'Animal' object has no attribute '__name'",
     "output_type": "error",
     "traceback": [
      "\u001b[1;31m---------------------------------------------------------------------------\u001b[0m",
      "\u001b[1;31mAttributeError\u001b[0m                            Traceback (most recent call last)",
      "Cell \u001b[1;32mIn[41], line 1\u001b[0m\n\u001b[1;32m----> 1\u001b[0m \u001b[38;5;28mprint\u001b[39m(dog\u001b[38;5;241m.\u001b[39m__name)\n",
      "\u001b[1;31mAttributeError\u001b[0m: 'Animal' object has no attribute '__name'"
     ]
    }
   ],
   "source": [
    "print(dog.__name)  # Not accessible"
   ]
  },
  {
   "cell_type": "code",
   "execution_count": null,
   "id": "272ffee0-045e-4d9a-abed-3a46f3055910",
   "metadata": {},
   "outputs": [],
   "source": [
    "5. What is the purpose of the \"super\" keyword in inheritance? Provide an example."
   ]
  },
  {
   "cell_type": "code",
   "execution_count": null,
   "id": "006b99d3-c85d-4b13-a3f5-67ccfbc21d41",
   "metadata": {},
   "outputs": [],
   "source": [
    "The super keyword in inheritance is used to call methods from a superclass in a subclass. It is particularly useful for initializing the superclass\n",
    "part of an object, and it allows a subclass to access methods and properties of its superclass without explicitly naming the superclass. \n",
    "This promotes code reuse and helps in maintaining the class hierarchy, especially when dealing with multiple inheritance.\n",
    "\n",
    "Purpose of super:\n",
    "Initialization: It is commonly used to call the superclass's constructor, ensuring that the superclass is properly initialized.\n",
    "Method Overriding: It allows you to call a method from the superclass that has been overridden in the subclass.\n",
    "Multiple Inheritance: It helps in resolving the method resolution order (MRO) in classes that use multiple inheritance."
   ]
  },
  {
   "cell_type": "code",
   "execution_count": 42,
   "id": "55844814-9b11-461a-ac63-d8ab4e2a78df",
   "metadata": {},
   "outputs": [
    {
     "name": "stdout",
     "output_type": "stream",
     "text": [
      "Buddy says Woof!\n",
      "Name: Buddy, Age: 5, Breed: Golden Retriever\n"
     ]
    }
   ],
   "source": [
    "class Animal:\n",
    "    def __init__(self, name, age):\n",
    "        self.name = name\n",
    "        self.age = age\n",
    "    \n",
    "    def speak(self):\n",
    "        return \"Some sound\"\n",
    "\n",
    "class Dog(Animal):\n",
    "    def __init__(self, name, age, breed):\n",
    "        super().__init__(name, age)  # Initialize the superclass\n",
    "        self.breed = breed\n",
    "    \n",
    "    def speak(self):\n",
    "        return f\"{self.name} says Woof!\"\n",
    "\n",
    "# Creating an instance of Dog\n",
    "dog = Dog(\"Buddy\", 5, \"Golden Retriever\")\n",
    "print(dog.speak())  # Output: Buddy says Woof!\n",
    "print(f\"Name: {dog.name}, Age: {dog.age}, Breed: {dog.breed}\")  # Output: Name: Buddy, Age: 5, Breed: Golden Retriever\n"
   ]
  },
  {
   "cell_type": "code",
   "execution_count": null,
   "id": "85a34ea7-4747-496a-a968-84ec9219a731",
   "metadata": {},
   "outputs": [],
   "source": [
    "6. Create a base class called \"Vehicle\" with attributes like \"make\", \"model\", and \"year\".\n",
    "Then, create a derived class called \"Car\" that inherits from \"Vehicle\" and adds an\n",
    "attribute called \"fuel_type\". Implement appropriate methods in both classes."
   ]
  },
  {
   "cell_type": "code",
   "execution_count": 43,
   "id": "c1b7f303-9d4b-435e-b216-645ab24d5809",
   "metadata": {},
   "outputs": [
    {
     "name": "stdout",
     "output_type": "stream",
     "text": [
      "2021 Toyota Camry\n",
      "Engine started\n",
      "Engine stopped\n"
     ]
    }
   ],
   "source": [
    "class Vehicle:\n",
    "    def __init__(self, make, model, year):\n",
    "        self.make = make\n",
    "        self.model = model\n",
    "        self.year = year\n",
    "    \n",
    "    def get_info(self):\n",
    "        return f\"{self.year} {self.make} {self.model}\"\n",
    "    \n",
    "    def start_engine(self):\n",
    "        return \"Engine started\"\n",
    "    \n",
    "    def stop_engine(self):\n",
    "        return \"Engine stopped\"\n",
    "\n",
    "# Example usage:\n",
    "vehicle = Vehicle(\"Toyota\", \"Camry\", 2021)\n",
    "print(vehicle.get_info())  # Output: 2021 Toyota Camry\n",
    "print(vehicle.start_engine())  # Output: Engine started\n",
    "print(vehicle.stop_engine())  # Output: Engine stopped\n"
   ]
  },
  {
   "cell_type": "code",
   "execution_count": 44,
   "id": "44397aed-c7ae-4085-be92-15f9cb605de5",
   "metadata": {},
   "outputs": [
    {
     "name": "stdout",
     "output_type": "stream",
     "text": [
      "2020 Honda Civic - Fuel Type: Gasoline\n",
      "Engine started\n",
      "Engine stopped\n"
     ]
    }
   ],
   "source": [
    "class Car(Vehicle):\n",
    "    def __init__(self, make, model, year, fuel_type):\n",
    "        super().__init__(make, model, year)\n",
    "        self.fuel_type = fuel_type\n",
    "    \n",
    "    def get_car_info(self):\n",
    "        return f\"{self.get_info()} - Fuel Type: {self.fuel_type}\"\n",
    "\n",
    "# Example usage:\n",
    "car = Car(\"Honda\", \"Civic\", 2020, \"Gasoline\")\n",
    "print(car.get_car_info())  # Output: 2020 Honda Civic - Fuel Type: Gasoline\n",
    "print(car.start_engine())  # Output: Engine started\n",
    "print(car.stop_engine())  # Output: Engine stopped\n"
   ]
  },
  {
   "cell_type": "code",
   "execution_count": null,
   "id": "d079a481-4792-4677-b3ef-911dedc0e0fe",
   "metadata": {},
   "outputs": [],
   "source": [
    "7. Create a base class called \"Employee\" with attributes like \"name\" and \"salary.\"\n",
    "Derive two classes, \"Manager\" and \"Developer,\" from \"Employee.\" Add an additional\n",
    "attribute called \"department\" for the \"Manager\" class and \"programming_language\"\n",
    "for the \"Developer\" class."
   ]
  },
  {
   "cell_type": "code",
   "execution_count": 45,
   "id": "cf6c5b12-92e4-4ec3-a863-e1d4ba569066",
   "metadata": {},
   "outputs": [
    {
     "name": "stdout",
     "output_type": "stream",
     "text": [
      "Name: John Doe, Salary: 50000\n",
      "Name: Alice Smith, Salary: 80000, Department: HR\n",
      "Name: Bob Johnson, Salary: 70000, Programming Language: Python\n"
     ]
    }
   ],
   "source": [
    "class Employee:\n",
    "    def __init__(self, name, salary):\n",
    "        self.name = name\n",
    "        self.salary = salary\n",
    "    \n",
    "    def get_details(self):\n",
    "        return f\"Name: {self.name}, Salary: {self.salary}\"\n",
    "\n",
    "class Manager(Employee):\n",
    "    def __init__(self, name, salary, department):\n",
    "        super().__init__(name, salary)\n",
    "        self.department = department\n",
    "    \n",
    "    def get_details(self):\n",
    "        return f\"{super().get_details()}, Department: {self.department}\"\n",
    "\n",
    "class Developer(Employee):\n",
    "    def __init__(self, name, salary, programming_language):\n",
    "        super().__init__(name, salary)\n",
    "        self.programming_language = programming_language\n",
    "    \n",
    "    def get_details(self):\n",
    "        return f\"{super().get_details()}, Programming Language: {self.programming_language}\"\n",
    "\n",
    "# Example usage\n",
    "employee = Employee(\"John Doe\", 50000)\n",
    "print(employee.get_details())  # Output: Name: John Doe, Salary: 50000\n",
    "\n",
    "manager = Manager(\"Alice Smith\", 80000, \"HR\")\n",
    "print(manager.get_details())  # Output: Name: Alice Smith, Salary: 80000, Department: HR\n",
    "\n",
    "developer = Developer(\"Bob Johnson\", 70000, \"Python\")\n",
    "print(developer.get_details())  # Output: Name: Bob Johnson, Salary: 70000, Programming Language: Python\n"
   ]
  },
  {
   "cell_type": "code",
   "execution_count": null,
   "id": "64441203-db29-4251-be27-c6988e972710",
   "metadata": {},
   "outputs": [],
   "source": [
    "8. Design a base class called \"Shape\" with attributes like \"colour\" and \"border_width.\"\n",
    "Create derived classes, \"Rectangle\" and \"Circle,\" that inherit from \"Shape\" and add\n",
    "specific attributes like \"length\" and \"width\" for the \"Rectangle\" class and \"radius\" for\n",
    "the \"Circle\" class."
   ]
  },
  {
   "cell_type": "code",
   "execution_count": 46,
   "id": "3db420c5-d59b-4584-bb58-b68b88e832be",
   "metadata": {},
   "outputs": [
    {
     "name": "stdout",
     "output_type": "stream",
     "text": [
      "Colour: Red, Border Width: 2\n",
      "Colour: Blue, Border Width: 1, Length: 5, Width: 10\n",
      "Area: 50\n",
      "Perimeter: 30\n",
      "Colour: Green, Border Width: 3, Radius: 7\n",
      "Area: 153.93804002589985\n",
      "Circumference: 43.982297150257104\n"
     ]
    }
   ],
   "source": [
    "class Shape:\n",
    "    def __init__(self, colour, border_width):\n",
    "        self.colour = colour\n",
    "        self.border_width = border_width\n",
    "    \n",
    "    def get_details(self):\n",
    "        return f\"Colour: {self.colour}, Border Width: {self.border_width}\"\n",
    "\n",
    "class Rectangle(Shape):\n",
    "    def __init__(self, colour, border_width, length, width):\n",
    "        super().__init__(colour, border_width)\n",
    "        self.length = length\n",
    "        self.width = width\n",
    "    \n",
    "    def get_details(self):\n",
    "        return f\"{super().get_details()}, Length: {self.length}, Width: {self.width}\"\n",
    "    \n",
    "    def area(self):\n",
    "        return self.length * self.width\n",
    "    \n",
    "    def perimeter(self):\n",
    "        return 2 * (self.length + self.width)\n",
    "\n",
    "class Circle(Shape):\n",
    "    def __init__(self, colour, border_width, radius):\n",
    "        super().__init__(colour, border_width)\n",
    "        self.radius = radius\n",
    "    \n",
    "    def get_details(self):\n",
    "        return f\"{super().get_details()}, Radius: {self.radius}\"\n",
    "    \n",
    "    def area(self):\n",
    "        import math\n",
    "        return math.pi * self.radius * self.radius\n",
    "    \n",
    "    def circumference(self):\n",
    "        import math\n",
    "        return 2 * math.pi * self.radius\n",
    "\n",
    "# Example usage\n",
    "shape = Shape(\"Red\", 2)\n",
    "print(shape.get_details())  # Output: Colour: Red, Border Width: 2\n",
    "\n",
    "rectangle = Rectangle(\"Blue\", 1, 5, 10)\n",
    "print(rectangle.get_details())  # Output: Colour: Blue, Border Width: 1, Length: 5, Width: 10\n",
    "print(f\"Area: {rectangle.area()}\")  # Output: Area: 50\n",
    "print(f\"Perimeter: {rectangle.perimeter()}\")  # Output: Perimeter: 30\n",
    "\n",
    "circle = Circle(\"Green\", 3, 7)\n",
    "print(circle.get_details())  # Output: Colour: Green, Border Width: 3, Radius: 7\n",
    "print(f\"Area: {circle.area()}\")  # Output: Area: 153.93804002589985\n",
    "print(f\"Circumference: {circle.circumference()}\")  # Output: Circumference: 43.982297150257104\n"
   ]
  },
  {
   "cell_type": "code",
   "execution_count": null,
   "id": "967b40e9-826c-4b93-867c-2bd01f70a1ce",
   "metadata": {},
   "outputs": [],
   "source": [
    "9. Create a base class called \"Device\" with attributes like \"brand\" and \"model.\" Derive\n",
    "two classes, \"Phone\" and \"Tablet,\" from \"Device.\" Add specific attributes like\n",
    "\"screen_size\" for the \"Phone\" class and \"battery_capacity\" for the \"Tablet\" class."
   ]
  },
  {
   "cell_type": "code",
   "execution_count": 47,
   "id": "abe4d291-46df-4449-8f3d-2c6d8d9a8d0a",
   "metadata": {},
   "outputs": [
    {
     "name": "stdout",
     "output_type": "stream",
     "text": [
      "Brand: GenericBrand, Model: GenericModel\n",
      "Brand: Apple, Model: iPhone 13, Screen Size: 6.1 inches\n",
      "Brand: Samsung, Model: Galaxy Tab S7, Battery Capacity: 8000 mAh\n"
     ]
    }
   ],
   "source": [
    "class Device:\n",
    "    def __init__(self, brand, model):\n",
    "        self.brand = brand\n",
    "        self.model = model\n",
    "    \n",
    "    def get_details(self):\n",
    "        return f\"Brand: {self.brand}, Model: {self.model}\"\n",
    "\n",
    "class Phone(Device):\n",
    "    def __init__(self, brand, model, screen_size):\n",
    "        super().__init__(brand, model)\n",
    "        self.screen_size = screen_size\n",
    "    \n",
    "    def get_details(self):\n",
    "        return f\"{super().get_details()}, Screen Size: {self.screen_size} inches\"\n",
    "\n",
    "class Tablet(Device):\n",
    "    def __init__(self, brand, model, battery_capacity):\n",
    "        super().__init__(brand, model)\n",
    "        self.battery_capacity = battery_capacity\n",
    "    \n",
    "    def get_details(self):\n",
    "        return f\"{super().get_details()}, Battery Capacity: {self.battery_capacity} mAh\"\n",
    "\n",
    "# Example usage\n",
    "device = Device(\"GenericBrand\", \"GenericModel\")\n",
    "print(device.get_details())  # Output: Brand: GenericBrand, Model: GenericModel\n",
    "\n",
    "phone = Phone(\"Apple\", \"iPhone 13\", 6.1)\n",
    "print(phone.get_details())  # Output: Brand: Apple, Model: iPhone 13, Screen Size: 6.1 inches\n",
    "\n",
    "tablet = Tablet(\"Samsung\", \"Galaxy Tab S7\", 8000)\n",
    "print(tablet.get_details())  # Output: Brand: Samsung, Model: Galaxy Tab S7, Battery Capacity: 8000 mAh\n"
   ]
  },
  {
   "cell_type": "code",
   "execution_count": null,
   "id": "5f055149-40b3-4113-aa2b-2a11173a28ae",
   "metadata": {},
   "outputs": [],
   "source": [
    "10. Create a base class called \"BankAccount\" with attributes like \"account_number\" and\n",
    "\"balance.\" Derive two classes, \"SavingsAccount\" and \"CheckingAccount,\" from\n",
    "\"BankAccount.\" Add specific methods like \"calculate_interest\" for the\n",
    "\"SavingsAccount\" class and \"deduct_fees\" for the \"CheckingAccount\" class."
   ]
  },
  {
   "cell_type": "code",
   "execution_count": 48,
   "id": "94324a5f-3985-4c63-9cfc-9299b8e079d2",
   "metadata": {},
   "outputs": [
    {
     "name": "stdout",
     "output_type": "stream",
     "text": [
      "Account Number: 123456, Balance: 1000\n",
      "Account Number: 123456, Balance: 1500\n",
      "1300\n",
      "Insufficient funds\n",
      "Account Number: 789012, Balance: 2000, Interest Rate: 5%\n",
      "Interest: 100.0\n",
      "Account Number: 789012, Balance: 2100.0, Interest Rate: 5%\n",
      "Account Number: 345678, Balance: 3000, Fee: 50\n",
      "2950\n",
      "Account Number: 345678, Balance: 2950, Fee: 50\n"
     ]
    }
   ],
   "source": [
    "class BankAccount:\n",
    "    def __init__(self, account_number, balance):\n",
    "        self.account_number = account_number\n",
    "        self.balance = balance\n",
    "    \n",
    "    def deposit(self, amount):\n",
    "        self.balance += amount\n",
    "        return self.balance\n",
    "    \n",
    "    def withdraw(self, amount):\n",
    "        if amount <= self.balance:\n",
    "            self.balance -= amount\n",
    "            return self.balance\n",
    "        else:\n",
    "            return \"Insufficient funds\"\n",
    "    \n",
    "    def get_details(self):\n",
    "        return f\"Account Number: {self.account_number}, Balance: {self.balance}\"\n",
    "\n",
    "class SavingsAccount(BankAccount):\n",
    "    def __init__(self, account_number, balance, interest_rate):\n",
    "        super().__init__(account_number, balance)\n",
    "        self.interest_rate = interest_rate\n",
    "    \n",
    "    def calculate_interest(self):\n",
    "        interest = self.balance * self.interest_rate / 100\n",
    "        self.balance += interest\n",
    "        return interest\n",
    "    \n",
    "    def get_details(self):\n",
    "        return f\"{super().get_details()}, Interest Rate: {self.interest_rate}%\"\n",
    "\n",
    "class CheckingAccount(BankAccount):\n",
    "    def __init__(self, account_number, balance, fee):\n",
    "        super().__init__(account_number, balance)\n",
    "        self.fee = fee\n",
    "    \n",
    "    def deduct_fees(self):\n",
    "        if self.fee <= self.balance:\n",
    "            self.balance -= self.fee\n",
    "            return self.balance\n",
    "        else:\n",
    "            return \"Insufficient funds to deduct fees\"\n",
    "    \n",
    "    def get_details(self):\n",
    "        return f\"{super().get_details()}, Fee: {self.fee}\"\n",
    "\n",
    "# Example usage\n",
    "account = BankAccount(\"123456\", 1000)\n",
    "print(account.get_details())  # Output: Account Number: 123456, Balance: 1000\n",
    "account.deposit(500)\n",
    "print(account.get_details())  # Output: Account Number: 123456, Balance: 1500\n",
    "print(account.withdraw(200))  # Output: 1300\n",
    "print(account.withdraw(2000))  # Output: Insufficient funds\n",
    "\n",
    "savings_account = SavingsAccount(\"789012\", 2000, 5)\n",
    "print(savings_account.get_details())  # Output: Account Number: 789012, Balance: 2000, Interest Rate: 5%\n",
    "print(f\"Interest: {savings_account.calculate_interest()}\")  # Output: Interest: 100.0\n",
    "print(savings_account.get_details())  # Output: Account Number: 789012, Balance: 2100.0, Interest Rate: 5%\n",
    "\n",
    "checking_account = CheckingAccount(\"345678\", 3000, 50)\n",
    "print(checking_account.get_details())  # Output: Account Number: 345678, Balance: 3000, Fee: 50\n",
    "print(checking_account.deduct_fees())  # Output: 2950\n",
    "print(checking_account.get_details())  # Output: Account Number: 345678, Balance: 2950, Fee: 50\n"
   ]
  },
  {
   "cell_type": "code",
   "execution_count": null,
   "id": "713eb9f0-fedc-49e1-b2ae-a5c8a3691acb",
   "metadata": {},
   "outputs": [],
   "source": []
  }
 ],
 "metadata": {
  "kernelspec": {
   "display_name": "Python 3 (ipykernel)",
   "language": "python",
   "name": "python3"
  },
  "language_info": {
   "codemirror_mode": {
    "name": "ipython",
    "version": 3
   },
   "file_extension": ".py",
   "mimetype": "text/x-python",
   "name": "python",
   "nbconvert_exporter": "python",
   "pygments_lexer": "ipython3",
   "version": "3.11.7"
  }
 },
 "nbformat": 4,
 "nbformat_minor": 5
}
