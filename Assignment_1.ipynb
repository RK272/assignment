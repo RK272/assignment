{
 "cells": [
  {
   "cell_type": "code",
   "execution_count": null,
   "id": "16d998c0-afc7-4c33-8db4-2106c9d10b41",
   "metadata": {},
   "outputs": [],
   "source": [
    "1. In the below elements which of them are values or an expression? eg:- values can be\n",
    "integer or string and expressions will be mathematical operators.\n",
    "*\n",
    "&#39;hello&#39;\n",
    "-87.8\n",
    "-\n",
    "/\n",
    "+\n",
    "6"
   ]
  },
  {
   "cell_type": "code",
   "execution_count": null,
   "id": "0ae57252-1710-43ef-b8d4-37462018f20c",
   "metadata": {},
   "outputs": [],
   "source": [
    "Values:\n",
    "'hello' (string)\n",
    "-87.8 (floating-point number)\n",
    "6 (integer)\n",
    "Expressions:\n",
    "* (multiplication operator)\n",
    "- (subtraction operator)\n",
    "/ (division operator)\n",
    "+ (addition operator)"
   ]
  },
  {
   "cell_type": "code",
   "execution_count": null,
   "id": "9f41cc8b-e40e-47dd-82c8-4637c97617b0",
   "metadata": {},
   "outputs": [],
   "source": [
    "2. What is the difference between string and variable?"
   ]
  },
  {
   "cell_type": "code",
   "execution_count": null,
   "id": "fa286f80-f18e-4a83-b857-96ca476c693b",
   "metadata": {},
   "outputs": [],
   "source": [
    "A string is a sequence of characters enclosed in quotes (either single ' ' or double \"). For example, \"hello\" and 'world' are strings.\n",
    "\n",
    "A variable, on the other hand, is a named storage location that can hold any type of data, including strings, numbers, lists, etc.\n",
    "Variables are used to store values and can be changed or updated throughout a program. \n",
    "For example, greeting = \"hello\" assigns the string \"hello\" to the variable greeting."
   ]
  },
  {
   "cell_type": "code",
   "execution_count": null,
   "id": "fa658857-6c49-4fd5-b2d1-8e5cf2037afc",
   "metadata": {},
   "outputs": [],
   "source": [
    "3. Describe three different data types."
   ]
  },
  {
   "cell_type": "code",
   "execution_count": null,
   "id": "ca6708e1-082a-4d77-b32e-017187280083",
   "metadata": {},
   "outputs": [],
   "source": [
    "1. Integer (int)\n",
    "Description: Integers are whole numbers without a fractional component. They can be positive, negative, or zero.\n",
    "Example: 42, -7, 0\n",
    "2. String (str)\n",
    "Description: Strings are sequences of characters enclosed in quotes. They are used to represent text.\n",
    "Example: \"hello\", 'world', \"12345\"\n",
    "3. List\n",
    "Description: Lists are ordered collections of items that can be of any data type. Lists are mutable, meaning their elements can be changed.\n",
    "Example: [1, 2, 3, 4, 5], [\"apple\", \"banana\", \"cherry\"], [1, \"hello\", 3.14]"
   ]
  },
  {
   "cell_type": "code",
   "execution_count": null,
   "id": "c00b8cd0-9446-44c1-9548-46ae8542033f",
   "metadata": {},
   "outputs": [],
   "source": [
    "4. What is an expression made up of? What do all expressions do?"
   ]
  },
  {
   "cell_type": "code",
   "execution_count": null,
   "id": "db4811cb-1efa-4404-ad2a-113093cddc57",
   "metadata": {},
   "outputs": [],
   "source": [
    "An expression is made up of values, variables, operators, and function calls that are combined in a way that follows the syntax rules of the programming language.\n",
    "\n",
    "Components of an Expression:\n",
    "Values: Constant values like numbers or strings, e.g., 42, 'hello'.\n",
    "Variables: Names that refer to stored data, e.g., x, y.\n",
    "Operators: Symbols that represent operations, e.g., +, -, *, /.\n",
    "Function Calls: Invocations of functions that return values, e.g., max(a, b), len(str).\n",
    "Purpose of Expressions:\n",
    "All expressions evaluate to a single value. This means that the expression is computed to produce a result. For example:\n",
    "\n",
    "The expression 2 + 3 evaluates to 5.\n",
    "The expression len('hello') evaluates to 5.\n",
    "In essence, expressions are used to perform calculations, retrieve values, and produce new data from existing data."
   ]
  },
  {
   "cell_type": "code",
   "execution_count": null,
   "id": "a43c3ece-b16f-4992-a521-b8386774ed3d",
   "metadata": {},
   "outputs": [],
   "source": [
    "5. This assignment statements, like spam = 10. What is the difference between an\n",
    "expression and a statement?"
   ]
  },
  {
   "cell_type": "code",
   "execution_count": null,
   "id": "b67d9adf-679d-4010-b86c-e5387104efb2",
   "metadata": {},
   "outputs": [],
   "source": [
    "Expression:\n",
    "Definition: An expression is a combination of values, variables, operators, and function calls that can be evaluated to produce a single value.\n",
    "Example: 2 + 3, len('hello'), x * y\n",
    "Purpose: Expressions are used to compute values. When evaluated, they return a result.\n",
    "Characteristics: They do not change the state of the program by themselves but produce values that can be used in statements.\n",
    "Statement:\n",
    "Definition: A statement is an instruction that the Python interpreter can execute. It performs an action.\n",
    "Example: spam = 10, print('hello'), if x > 0:\n",
    "Purpose: Statements are used to control the flow of the program and to perform actions like assigning values, controlling loops, or making decisions.\n",
    "Characteristics: They can change the state of the program (e.g., by changing the value of a variable).\n",
    "Key Differences:\n",
    "Evaluation vs. Execution: An expression evaluates to a value, while a statement is executed to perform an action.\n",
    "Use in Code: Expressions can be part of statements. For example, in the assignment statement spam = 10, 10 is an expression that evaluates to the integer value 10, \n",
    "and the whole line is a statement that assigns the value to the variable spam."
   ]
  },
  {
   "cell_type": "code",
   "execution_count": null,
   "id": "ae3967c2-7faa-4500-9d07-97157958014d",
   "metadata": {},
   "outputs": [],
   "source": [
    "6. After running the following code, what does the variable bacon contain?\n",
    "bacon = 22\n",
    "bacon + 1"
   ]
  },
  {
   "cell_type": "code",
   "execution_count": 1,
   "id": "19133a36-0cd8-4812-8598-9407025db54d",
   "metadata": {},
   "outputs": [
    {
     "data": {
      "text/plain": [
       "23"
      ]
     },
     "execution_count": 1,
     "metadata": {},
     "output_type": "execute_result"
    }
   ],
   "source": [
    "bacon = 22\n",
    "bacon + 1"
   ]
  },
  {
   "cell_type": "code",
   "execution_count": 2,
   "id": "e361944d-e376-493b-877f-00d868ba6c34",
   "metadata": {},
   "outputs": [
    {
     "data": {
      "text/plain": [
       "22"
      ]
     },
     "execution_count": 2,
     "metadata": {},
     "output_type": "execute_result"
    }
   ],
   "source": [
    "bacon"
   ]
  },
  {
   "cell_type": "code",
   "execution_count": null,
   "id": "5235c30f-b473-4d8e-bf02-e9fbbbf50a75",
   "metadata": {},
   "outputs": [],
   "source": [
    "bacon value 22 bcz its not assigning new value only just adding"
   ]
  },
  {
   "cell_type": "code",
   "execution_count": null,
   "id": "170ffe4b-815d-41de-bfbf-ca4ab9b297e8",
   "metadata": {},
   "outputs": [],
   "source": [
    "7. What should the values of the following two terms be?\n",
    "\"spam\" + \"spamspam\"\n",
    "\"spam\" * 3"
   ]
  },
  {
   "cell_type": "code",
   "execution_count": null,
   "id": "3550a276-902e-44bb-8ce1-fdc5bb467b96",
   "metadata": {},
   "outputs": [],
   "source": [
    "\"spam\" + \"spamspam\"=\"spamspamspam\"\n",
    "\"spam\" * 3=\"spamspamspam\""
   ]
  },
  {
   "cell_type": "code",
   "execution_count": 3,
   "id": "96148262-b4c9-4ba8-aad7-1cbad07f3869",
   "metadata": {},
   "outputs": [
    {
     "data": {
      "text/plain": [
       "'spamspamspam'"
      ]
     },
     "execution_count": 3,
     "metadata": {},
     "output_type": "execute_result"
    }
   ],
   "source": [
    "\"spam\" + \"spamspam\""
   ]
  },
  {
   "cell_type": "code",
   "execution_count": 4,
   "id": "948a9371-e43c-49ed-93da-314dc528adcf",
   "metadata": {},
   "outputs": [
    {
     "data": {
      "text/plain": [
       "'spamspamspam'"
      ]
     },
     "execution_count": 4,
     "metadata": {},
     "output_type": "execute_result"
    }
   ],
   "source": [
    "\"spam\" * 3"
   ]
  },
  {
   "cell_type": "code",
   "execution_count": null,
   "id": "ca066bf7-a74a-4cfe-83c2-b68bc7109d5d",
   "metadata": {},
   "outputs": [],
   "source": [
    "8. Why is eggs a valid variable name while 100 is invalid?"
   ]
  },
  {
   "cell_type": "code",
   "execution_count": null,
   "id": "609dbed3-6974-4db5-b6eb-9deadf8c3c71",
   "metadata": {},
   "outputs": [],
   "source": [
    "variable name start with alphabets ,_ but not start with digits so 100 is not a variable name"
   ]
  },
  {
   "cell_type": "code",
   "execution_count": null,
   "id": "c78ec56f-62af-4ff9-9027-88d25e04ff80",
   "metadata": {},
   "outputs": [],
   "source": [
    "9. What three functions can be used to get the integer, floating-point number, or string\n",
    "version of a value?"
   ]
  },
  {
   "cell_type": "code",
   "execution_count": null,
   "id": "a2b4e117-e146-4bb6-b284-21a87e639a94",
   "metadata": {},
   "outputs": [],
   "source": [
    "The three functions that can be used to convert a value to an integer, floating-point number, or string in Python are:\n",
    "\n",
    "int(): Converts a value to an integer.\n",
    "\n",
    "Example: int(3.14) returns 3\n",
    "Example: int('42') returns 42\n",
    "float(): Converts a value to a floating-point number.\n",
    "\n",
    "Example: float(3) returns 3.0\n",
    "Example: float('3.14') returns 3.14\n",
    "str(): Converts a value to a string.\n",
    "\n",
    "Example: str(42) returns '42'\n",
    "Example: str(3.14) returns '3.14'"
   ]
  },
  {
   "cell_type": "code",
   "execution_count": null,
   "id": "100bed52-8410-40ac-96d7-ddf48a5cd925",
   "metadata": {},
   "outputs": [],
   "source": [
    "10. Why does this expression cause an error? How can you fix it?\n",
    "\"I have eaten\" + 99 + \"burritos\""
   ]
  },
  {
   "cell_type": "code",
   "execution_count": null,
   "id": "bcc55935-9287-4902-80ce-6ad41c32c8c1",
   "metadata": {},
   "outputs": [],
   "source": [
    "not possible to add string with integer so want to make integer also a string \n",
    "\"I have eaten\" + \"99\" + \"burritos\" it will not cause a error"
   ]
  }
 ],
 "metadata": {
  "kernelspec": {
   "display_name": "Python 3 (ipykernel)",
   "language": "python",
   "name": "python3"
  },
  "language_info": {
   "codemirror_mode": {
    "name": "ipython",
    "version": 3
   },
   "file_extension": ".py",
   "mimetype": "text/x-python",
   "name": "python",
   "nbconvert_exporter": "python",
   "pygments_lexer": "ipython3",
   "version": "3.11.7"
  }
 },
 "nbformat": 4,
 "nbformat_minor": 5
}
